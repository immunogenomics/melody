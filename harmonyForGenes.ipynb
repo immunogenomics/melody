{
 "cells": [
  {
   "cell_type": "markdown",
   "metadata": {},
   "source": [
    "People want to correct for gene expression. They can do it better by using Harmony soft clusters. "
   ]
  },
  {
   "cell_type": "code",
   "execution_count": 2,
   "metadata": {},
   "outputs": [],
   "source": [
    "library(tidyverse)\n",
    "library(data.table)\n",
    "library(magrittr)\n",
    "library(ggthemes)\n",
    "library(harmony)\n",
    "library(singlecellmethods)\n",
    "library(ggrepel)\n",
    "library(Matrix)\n",
    "library(patchwork)\n",
    "library(sctransform)\n",
    "library(ggrastr)\n",
    "library(scales)\n",
    "library(uwot)\n",
    "library(pheatmap)\n"
   ]
  },
  {
   "cell_type": "code",
   "execution_count": 3,
   "metadata": {},
   "outputs": [],
   "source": [
    "fig.size <- function (height, width) {\n",
    "    options(repr.plot.height = height, repr.plot.width = width)\n",
    "}\n"
   ]
  },
  {
   "cell_type": "code",
   "execution_count": 4,
   "metadata": {},
   "outputs": [],
   "source": [
    "do_scatter <- function(umap_use, meta_data, label_name, no_guides = TRUE, do_labels = TRUE, nice_names, palette_use,\n",
    "                       pt_size = 4, point_size = .5, base_size = 12, do_points = TRUE, do_density = FALSE, h = 6, w = 8) {\n",
    "    plt_df <- umap_use %>% data.frame() %>% \n",
    "        cbind(meta_data) %>% \n",
    "        dplyr::sample_frac(1L) \n",
    "    plt_df$given_name <- plt_df[[label_name]]\n",
    "    \n",
    "    if (!missing(nice_names)) {\n",
    "        plt_df %<>%\n",
    "            dplyr::inner_join(nice_names, by = \"given_name\") %>% \n",
    "            subset(nice_name != \"\" & !is.na(nice_name))\n",
    "\n",
    "        plt_df[[label_name]] <- plt_df$nice_name        \n",
    "    }\n",
    "        \n",
    "    plt <- plt_df %>% \n",
    "        ggplot(aes_string(\"X1\", \"X2\", col = label_name, fill = label_name)) + \n",
    "#         theme_tufte(base_size = base_size) + \n",
    "        theme_test(base_size = base_size) + \n",
    "        theme(panel.background = element_rect(fill = NA, color = \"black\")) + \n",
    "        guides(color = guide_legend(override.aes = list(stroke = 1, alpha = 1, shape = 16, size = 4)), alpha = FALSE) +\n",
    "        scale_color_manual(values = palette_use) + \n",
    "        scale_fill_manual(values = palette_use) +    \n",
    "        theme(plot.title = element_text(hjust = .5)) + \n",
    "        labs(x = \"UMAP 1\", y = \"UMAP 2\") \n",
    "    \n",
    "    if (do_points) \n",
    "#         plt <- plt + geom_point_rast(dpi = 300, width = w, height = h, size = point_size) \n",
    "        plt <- plt + geom_point(shape = '.')\n",
    "    if (do_density) \n",
    "        plt <- plt + geom_density_2d()    \n",
    "        \n",
    "\n",
    "    if (no_guides)\n",
    "        plt <- plt + guides(col = FALSE, fill = FALSE, alpha = FALSE)\n",
    "    \n",
    "    if (do_labels) \n",
    "        plt <- plt + geom_label_repel(data = data.table(plt_df)[, .(X1 = mean(X1), X2 = mean(X2)), by = label_name], label.size = NA,\n",
    "                                      aes_string(label = label_name), color = \"white\", size = pt_size, alpha = 1, segment.size = 0) + \n",
    "        guides(col = FALSE, fill = FALSE)\n",
    "    return(plt)\n",
    "}\n"
   ]
  },
  {
   "cell_type": "markdown",
   "metadata": {},
   "source": [
    "# Motivation\n",
    "\n",
    "Library complexity and batch effects are not orthogonal to Biology!!!!\n",
    "\n"
   ]
  },
  {
   "cell_type": "code",
   "execution_count": 122,
   "metadata": {},
   "outputs": [
    {
     "data": {
      "image/png": "[encoded data removed]",
      "text/plain": [
       "plot without title"
      ]
     },
     "metadata": {},
     "output_type": "display_data"
    }
   ],
   "source": [
    "fig.size(2.5, 5)\n",
    "meta_data %>% \n",
    "    ggplot(aes(cell_type, nUMI)) + \n",
    "        geom_boxplot() + \n",
    "        scale_y_log10() + \n",
    "        NULL"
   ]
  },
  {
   "cell_type": "code",
   "execution_count": null,
   "metadata": {},
   "outputs": [],
   "source": []
  },
  {
   "cell_type": "markdown",
   "metadata": {},
   "source": [
    "# Linear correction of logCPM\n",
    "\n",
    "    - do Harmony, keep soft clusters\n",
    "    - do MoE for genes\n",
    "    - redo PCA and UMAP and see if batch effect is gone\n",
    "    - compare to global linear regression (i.e. with Seurat scaling)"
   ]
  },
  {
   "cell_type": "markdown",
   "metadata": {},
   "source": [
    "## Harmony"
   ]
  },
  {
   "cell_type": "code",
   "execution_count": 7,
   "metadata": {},
   "outputs": [],
   "source": [
    "V <- fread('/data/srlab/ik936/harmony_paper/PBMC_full/data/scaled_pcs.csv')\n",
    "meta_data <- fread('/data/srlab/ik936/harmony_paper/PBMC_full/data/meta_data_subtypes.csv')\n",
    "exprs_norm <- readRDS('/data/srlab/ik936/harmony_paper/PBMC_full/data/exprs_norm.rds')\n"
   ]
  },
  {
   "cell_type": "code",
   "execution_count": 8,
   "metadata": {},
   "outputs": [
    {
     "name": "stderr",
     "output_type": "stream",
     "text": [
      "Harmony 1/5\n",
      "Harmony 2/5\n",
      "Harmony 3/5\n",
      "Harmony 4/5\n",
      "Harmony 5/5\n"
     ]
    }
   ],
   "source": [
    "harmonyObj <- HarmonyMatrix(V, meta_data, 'donor', theta = 2, lambda = .1, nclust = 50,\n",
    "                    max.iter.cluster = 10, max.iter.harmony = 5, return_object = TRUE)"
   ]
  },
  {
   "cell_type": "code",
   "execution_count": 9,
   "metadata": {},
   "outputs": [],
   "source": [
    "umap_res <- umap(t(harmonyObj$Z_corr), n_neighbors = 30, learning_rate = 0.5, init = \"pca\", metric = 'cosine', \n",
    "                 min_dist = .1, n_threads = 4, approx_pow = TRUE)\n"
   ]
  },
  {
   "cell_type": "code",
   "execution_count": 10,
   "metadata": {},
   "outputs": [
    {
     "data": {
      "image/png": "[encoded data removed]",
      "text/plain": [
       "plot without title"
      ]
     },
     "metadata": {},
     "output_type": "display_data"
    }
   ],
   "source": [
    "fig.size(2.5, 10)\n",
    "do_scatter(umap_res, meta_data, 'donor', palette_use = tableau_color_pal()(10)) + \n",
    "do_scatter(umap_res, meta_data, 'cell_type', palette_use = tableau_color_pal()(10))"
   ]
  },
  {
   "cell_type": "markdown",
   "metadata": {},
   "source": [
    "## Gene correction"
   ]
  },
  {
   "cell_type": "code",
   "execution_count": 33,
   "metadata": {},
   "outputs": [],
   "source": [
    "sourceCpp('utils.cpp')"
   ]
  },
  {
   "cell_type": "code",
   "execution_count": 34,
   "metadata": {},
   "outputs": [],
   "source": [
    "exprs_dense <- as.matrix(exprs_norm)"
   ]
  },
  {
   "cell_type": "code",
   "execution_count": 35,
   "metadata": {},
   "outputs": [
    {
     "data": {
      "text/plain": [
       "   user  system elapsed \n",
       " 78.511   1.378   5.335 "
      ]
     },
     "metadata": {},
     "output_type": "display_data"
    }
   ],
   "source": [
    "system.time({\n",
    "    with(harmonyObj, {\n",
    "        X_corr <<- moe_gene(as.matrix(exprs_dense), Phi_moe, R, lambda)\n",
    "    })\n",
    "})\n"
   ]
  },
  {
   "cell_type": "code",
   "execution_count": 690,
   "metadata": {},
   "outputs": [],
   "source": [
    "row.names(X_corr) <- row.names(exprs_dense)\n",
    "colnames(X_corr) <- colnames(exprs_dense)"
   ]
  },
  {
   "cell_type": "markdown",
   "metadata": {},
   "source": [
    "### redo PCA + UMAP"
   ]
  },
  {
   "cell_type": "code",
   "execution_count": 36,
   "metadata": {},
   "outputs": [],
   "source": [
    "pca_res <- X_corr %>% t %>% scale(T, T) %>% t %>% rARPACK::svds(20, 0, 20)\n",
    "V2 <- pca_res$v %*% diag(pca_res$d)\n"
   ]
  },
  {
   "cell_type": "code",
   "execution_count": 37,
   "metadata": {},
   "outputs": [],
   "source": [
    "umap2 <- umap(V2, n_neighbors = 30, learning_rate = 0.5, init = \"pca\", metric = 'cosine', \n",
    "              min_dist = .1, n_threads = 4, approx_pow = TRUE)\n"
   ]
  },
  {
   "cell_type": "code",
   "execution_count": 38,
   "metadata": {},
   "outputs": [
    {
     "data": {
      "image/png": "[encoded data removed]",
      "text/plain": [
       "plot without title"
      ]
     },
     "metadata": {},
     "output_type": "display_data"
    }
   ],
   "source": [
    "fig.size(2.5, 10)\n",
    "idx <- which(!is.na(meta_data$cell_type))\n",
    "do_scatter(umap2[idx, ], meta_data[idx, ], 'donor', palette_use = tableau_color_pal()(10), do_labels = FALSE) + \n",
    "do_scatter(umap2[idx, ], meta_data[idx, ], 'cell_type', palette_use = tableau_color_pal()(10)) + \n",
    "plot_annotation('Harmony -> local linear gene correcton -> scale corrected genes -> PCA -> UMAP')"
   ]
  },
  {
   "cell_type": "markdown",
   "metadata": {},
   "source": [
    "## Compare to global ridge linear regression"
   ]
  },
  {
   "cell_type": "code",
   "execution_count": 39,
   "metadata": {},
   "outputs": [
    {
     "data": {
      "text/html": [
       "<ol class=list-inline>\n",
       "\t<li>50</li>\n",
       "\t<li>20886</li>\n",
       "</ol>\n"
      ],
      "text/latex": [
       "\\begin{enumerate*}\n",
       "\\item 50\n",
       "\\item 20886\n",
       "\\end{enumerate*}\n"
      ],
      "text/markdown": [
       "1. 50\n",
       "2. 20886\n",
       "\n",
       "\n"
      ],
      "text/plain": [
       "[1]    50 20886"
      ]
     },
     "metadata": {},
     "output_type": "display_data"
    }
   ],
   "source": [
    "harmonyObj$R %>% dim"
   ]
  },
  {
   "cell_type": "code",
   "execution_count": 696,
   "metadata": {},
   "outputs": [
    {
     "data": {
      "text/plain": [
       "   user  system elapsed \n",
       "  1.748   1.058   1.322 "
      ]
     },
     "metadata": {},
     "output_type": "display_data"
    }
   ],
   "source": [
    "system.time({\n",
    "    with(harmonyObj, {\n",
    "        X_lin <<- moe_gene(as.matrix(exprs_dense), Phi_moe, matrix(1, nrow = 1, ncol = ncol(harmonyObj$R)), lambda)\n",
    "    })\n",
    "})\n",
    "\n",
    "\n",
    "row.names(X_lin) <- row.names(exprs_dense)\n",
    "colnames(X_lin) <- colnames(exprs_dense)"
   ]
  },
  {
   "cell_type": "code",
   "execution_count": 41,
   "metadata": {},
   "outputs": [],
   "source": [
    "pca_res <- X_lin %>% t %>% scale(T, T) %>% t %>% rARPACK::svds(20, 0, 20)\n",
    "V3 <- pca_res$v %*% diag(pca_res$d)\n"
   ]
  },
  {
   "cell_type": "code",
   "execution_count": 42,
   "metadata": {},
   "outputs": [],
   "source": [
    "umap3 <- umap(V3, n_neighbors = 30, learning_rate = 0.5, init = \"pca\", metric = 'cosine', \n",
    "              min_dist = .1, n_threads = 4, approx_pow = TRUE)\n"
   ]
  },
  {
   "cell_type": "code",
   "execution_count": 43,
   "metadata": {},
   "outputs": [
    {
     "data": {
      "image/png": "[encoded data removed]",
      "text/plain": [
       "plot without title"
      ]
     },
     "metadata": {},
     "output_type": "display_data"
    }
   ],
   "source": [
    "fig.size(2.5, 10)\n",
    "idx <- which(!is.na(meta_data$cell_type))\n",
    "do_scatter(umap3[idx, ], meta_data[idx, ], 'donor', palette_use = tableau_color_pal()(10), do_labels = FALSE) + \n",
    "do_scatter(umap3[idx, ], meta_data[idx, ], 'cell_type', palette_use = tableau_color_pal()(10)) + \n",
    "plot_annotation(title = 'global linear gene correction -> PCA -> UMAP')"
   ]
  },
  {
   "cell_type": "markdown",
   "metadata": {},
   "source": [
    "# Poisson\n",
    "\n",
    "    weighted Poisson regression \n",
    "    \n",
    "    \n",
    "    GOAL: \n",
    "        do Poisson regression of main markers\n",
    "        compare to linear regression of same markers\n",
    "        "
   ]
  },
  {
   "cell_type": "markdown",
   "metadata": {},
   "source": [
    "## Get raw data "
   ]
  },
  {
   "cell_type": "code",
   "execution_count": 5,
   "metadata": {},
   "outputs": [],
   "source": [
    "x1 <- readRDS(\"/data/srlab/ik936/Foxxy/data/cache_pbmc_3pv1.rds\")$exprs_raw\n",
    "x2 <- readRDS(\"/data/srlab/ik936/Foxxy/data/cache_pbmc_3pv2.rds\")$exprs_raw\n",
    "x3 <- readRDS(\"/data/srlab/ik936/Foxxy/data/cache_pbmc_5p.rds\")$exprs_raw"
   ]
  },
  {
   "cell_type": "code",
   "execution_count": 11,
   "metadata": {},
   "outputs": [],
   "source": [
    "exprs_raw <- Reduce(cbind, list(x1, x2, x3))[row.names(exprs_norm), colnames(exprs_norm)]"
   ]
  },
  {
   "cell_type": "markdown",
   "metadata": {},
   "source": [
    "## Estimate expert parameters\n",
    "\n",
    "For each cluster, learn a ridge-penalized weighted Poisson model: \n",
    "\n",
    "    exprs_raw ~ log(nUMI) + batch\n"
   ]
  },
  {
   "cell_type": "code",
   "execution_count": 12,
   "metadata": {},
   "outputs": [
    {
     "name": "stderr",
     "output_type": "stream",
     "text": [
      "Loading required package: foreach\n",
      "\n",
      "Attaching package: ‘foreach’\n",
      "\n",
      "The following objects are masked from ‘package:purrr’:\n",
      "\n",
      "    accumulate, when\n",
      "\n",
      "Loaded glmnet 2.0-16\n",
      "\n"
     ]
    }
   ],
   "source": [
    "library(glmnet)"
   ]
  },
  {
   "cell_type": "code",
   "execution_count": 13,
   "metadata": {},
   "outputs": [],
   "source": [
    "# meta_use <- meta_data[, c('nUMI', 'donor')]\n",
    "# meta_use$nUMI <- log(meta_use$nUMI)\n",
    "meta_use <- data.frame(t(harmonyObj$Phi_moe[2:4, ]))\n",
    "meta_use$nUMI <- log(meta_data$nUMI)\n",
    "meta_use <- as.matrix(meta_use)"
   ]
  },
  {
   "cell_type": "code",
   "execution_count": 14,
   "metadata": {},
   "outputs": [
    {
     "data": {
      "text/html": [
       "0.712008043665613"
      ],
      "text/latex": [
       "0.712008043665613"
      ],
      "text/markdown": [
       "0.712008043665613"
      ],
      "text/plain": [
       "[1] 0.712008"
      ]
     },
     "metadata": {},
     "output_type": "display_data"
    },
    {
     "data": {
      "text/html": [
       "0.718184429761563"
      ],
      "text/latex": [
       "0.718184429761563"
      ],
      "text/markdown": [
       "0.718184429761563"
      ],
      "text/plain": [
       "[1] 0.7181844"
      ]
     },
     "metadata": {},
     "output_type": "display_data"
    }
   ],
   "source": [
    "mean(exprs_raw['MS4A1', ])\n",
    "mean(exprs_raw['CD14', ])"
   ]
  },
  {
   "cell_type": "code",
   "execution_count": 101,
   "metadata": {},
   "outputs": [],
   "source": [
    "pres <- Reduce(cbind, lapply(1:harmonyObj$K, function (k) {\n",
    "#     x <- glmnet::glmnet(meta_use, exprs_raw['MS4A1', ], family = 'poisson', intercept = TRUE, weights = harmonyObj$R[k, ], alpha = 0)\n",
    "    x <- glmnet::glmnet(meta_use, log1p(exprs_raw['CD3E', ]), family = 'gaussian', intercept = TRUE, weights = harmonyObj$R[k, ], alpha = 0, lambda = 1)\n",
    "#     x <- glmnet::glmnet(meta_use, log(1 + exprs_raw['CD3E', ]), family = 'gaussian', intercept = TRUE, weights = harmonyObj$R[k, ], alpha = 0, lambda = 1)\n",
    "#     lambda_idx <- min(which((diff(x$dev.ratio) / tail(x$dev.ratio, -1)) < .01))\n",
    "#     lambda_idx <- 50\n",
    "#     data.frame(c(x$a0[lambda_idx], x$beta[, lambda_idx]))    \n",
    "    data.frame(c(x$a0[1], x$beta[, 1]))    \n",
    "}))\n",
    "\n",
    "pres <- data.table(t(pres))"
   ]
  },
  {
   "cell_type": "code",
   "execution_count": 102,
   "metadata": {},
   "outputs": [
    {
     "data": {
      "text/html": [
       "<table>\n",
       "<thead><tr><th scope=col>cluster</th><th scope=col>V1</th><th scope=col>bcells</th><th scope=col>dc</th><th scope=col>mk</th><th scope=col>mono</th><th scope=col>nk</th><th scope=col>tcells</th><th scope=col>s0</th><th scope=col>X1</th><th scope=col>X2</th><th scope=col>X3</th><th scope=col>nUMI</th></tr></thead>\n",
       "<tbody>\n",
       "\t<tr><td> 1          </td><td>  0         </td><td>  1         </td><td>  0         </td><td> 0          </td><td>  0         </td><td>  8         </td><td>364         </td><td>-0.85182196 </td><td> 0.229491426</td><td>-0.037482856</td><td>-0.170800623</td><td>0.26143942  </td></tr>\n",
       "\t<tr><td> 2          </td><td>  0         </td><td>  0         </td><td>  0         </td><td> 0          </td><td>  0         </td><td>  0         </td><td>450         </td><td>-0.82508769 </td><td> 0.186204721</td><td>-0.055333431</td><td>-0.142251014</td><td>0.25034563  </td></tr>\n",
       "\t<tr><td> 3          </td><td>  0         </td><td>  0         </td><td>  0         </td><td> 1          </td><td>401         </td><td>  0         </td><td>  0         </td><td>-0.26037555 </td><td>-0.006188375</td><td> 0.020905460</td><td>-0.013002439</td><td>0.04412113  </td></tr>\n",
       "\t<tr><td> 4          </td><td>  0         </td><td>  1         </td><td>  0         </td><td> 0          </td><td>  2         </td><td>434         </td><td> 34         </td><td>-0.89634126 </td><td> 0.095488858</td><td> 0.002262912</td><td>-0.098909823</td><td>0.18121190  </td></tr>\n",
       "\t<tr><td> 5          </td><td>  0         </td><td>  1         </td><td>  0         </td><td> 0          </td><td>  0         </td><td>  0         </td><td>449         </td><td>-0.79958892 </td><td> 0.200096462</td><td>-0.059867183</td><td>-0.153265660</td><td>0.25142348  </td></tr>\n",
       "\t<tr><td> 6          </td><td>  0         </td><td>  0         </td><td>  2         </td><td> 2          </td><td>458         </td><td>  0         </td><td>  0         </td><td>-0.10843841 </td><td>-0.006229278</td><td> 0.009520894</td><td>-0.004404784</td><td>0.02082503  </td></tr>\n",
       "\t<tr><td> 7          </td><td>  1         </td><td>396         </td><td>  0         </td><td> 0          </td><td>  1         </td><td>  0         </td><td>  0         </td><td>-0.39669013 </td><td>-0.020856503</td><td> 0.024085536</td><td>-0.004895008</td><td>0.06110343  </td></tr>\n",
       "\t<tr><td> 8          </td><td>  0         </td><td>  0         </td><td>  0         </td><td> 0          </td><td>  1         </td><td>  0         </td><td>465         </td><td>-0.79661423 </td><td> 0.197460966</td><td>-0.062037249</td><td>-0.159979133</td><td>0.25165223  </td></tr>\n",
       "\t<tr><td> 9          </td><td>  0         </td><td>435         </td><td>  0         </td><td> 0          </td><td>  1         </td><td>  0         </td><td>  0         </td><td>-0.31708385 </td><td>-0.011402677</td><td> 0.012955182</td><td>-0.002641205</td><td>0.04918546  </td></tr>\n",
       "\t<tr><td>10          </td><td>  0         </td><td>  0         </td><td>  0         </td><td> 0          </td><td>  0         </td><td>  0         </td><td>450         </td><td>-0.83127338 </td><td> 0.183522514</td><td>-0.054400020</td><td>-0.140423886</td><td>0.25047072  </td></tr>\n",
       "\t<tr><td>11          </td><td>  0         </td><td>  0         </td><td>  0         </td><td> 0          </td><td>  0         </td><td>  0         </td><td>450         </td><td>-0.85538133 </td><td> 0.173607098</td><td>-0.051052273</td><td>-0.133894024</td><td>0.25124574  </td></tr>\n",
       "\t<tr><td>12          </td><td>  0         </td><td>  0         </td><td>  0         </td><td> 0          </td><td>  1         </td><td>  0         </td><td>468         </td><td>-0.78435669 </td><td> 0.214754956</td><td>-0.070396699</td><td>-0.168550670</td><td>0.25603571  </td></tr>\n",
       "\t<tr><td>13          </td><td>  0         </td><td>  0         </td><td>  7         </td><td> 2          </td><td>453         </td><td>  0         </td><td>  0         </td><td>-0.30097989 </td><td>-0.009148189</td><td> 0.014534410</td><td>-0.007314451</td><td>0.04792351  </td></tr>\n",
       "\t<tr><td>14          </td><td>  0         </td><td>  0         </td><td>  9         </td><td> 2          </td><td>452         </td><td>  0         </td><td>  0         </td><td>-0.35237600 </td><td>-0.009777586</td><td> 0.015748905</td><td>-0.008136129</td><td>0.05503411  </td></tr>\n",
       "\t<tr><td>15          </td><td>  3         </td><td>  1         </td><td>  0         </td><td> 0          </td><td>  1         </td><td>  1         </td><td>240         </td><td> 0.01536198 </td><td>-0.027350703</td><td> 0.017529935</td><td> 0.018302983</td><td>0.07265839  </td></tr>\n",
       "\t<tr><td>16          </td><td>  0         </td><td>  1         </td><td>  0         </td><td> 0          </td><td>  2         </td><td>434         </td><td> 34         </td><td>-0.89634380 </td><td> 0.094914305</td><td> 0.002289673</td><td>-0.098354145</td><td>0.18079881  </td></tr>\n",
       "\t<tr><td>17          </td><td>  0         </td><td>  2         </td><td>  0         </td><td> 0          </td><td>  0         </td><td> 22         </td><td>352         </td><td>-0.88397451 </td><td> 0.231080167</td><td>-0.035824262</td><td>-0.171988994</td><td>0.26463114  </td></tr>\n",
       "\t<tr><td>18          </td><td>  0         </td><td>435         </td><td>  0         </td><td> 0          </td><td>  1         </td><td>  0         </td><td>  0         </td><td>-0.31708373 </td><td>-0.011402673</td><td> 0.012955178</td><td>-0.002641206</td><td>0.04918545  </td></tr>\n",
       "\t<tr><td>19          </td><td>  0         </td><td>  2         </td><td>  0         </td><td> 0          </td><td>  1         </td><td>  1         </td><td>302         </td><td>-1.04481232 </td><td> 0.242258129</td><td>-0.088487238</td><td>-0.212164059</td><td>0.30977841  </td></tr>\n",
       "\t<tr><td>20          </td><td>  0         </td><td>  0         </td><td>  0         </td><td> 0          </td><td>  0         </td><td>  0         </td><td>450         </td><td>-0.83908105 </td><td> 0.180243256</td><td>-0.053276585</td><td>-0.138229757</td><td>0.25068184  </td></tr>\n",
       "\t<tr><td>21          </td><td>  2         </td><td>  0         </td><td>331         </td><td> 0          </td><td> 20         </td><td>  0         </td><td>  1         </td><td>-0.15498743 </td><td>-0.020979148</td><td> 0.028477223</td><td>-0.016462053</td><td>0.03796204  </td></tr>\n",
       "\t<tr><td>22          </td><td>  0         </td><td>  0         </td><td>  0         </td><td> 0          </td><td>  0         </td><td>  0         </td><td>450         </td><td>-0.82110203 </td><td> 0.187991813</td><td>-0.055962662</td><td>-0.143488426</td><td>0.25029277  </td></tr>\n",
       "\t<tr><td>23          </td><td>  0         </td><td>  0         </td><td>  0         </td><td> 0          </td><td>  0         </td><td>  0         </td><td>450         </td><td>-0.83665571 </td><td> 0.181252001</td><td>-0.053620262</td><td>-0.138900483</td><td>0.25061100  </td></tr>\n",
       "\t<tr><td>24          </td><td>  0         </td><td>  1         </td><td>  0         </td><td> 0          </td><td>  0         </td><td>  4         </td><td>358         </td><td>-0.82153145 </td><td> 0.221188181</td><td>-0.063150706</td><td>-0.180492604</td><td>0.26066484  </td></tr>\n",
       "\t<tr><td>25          </td><td>  0         </td><td>  0         </td><td>  0         </td><td> 0          </td><td>  0         </td><td>  4         </td><td>310         </td><td>-0.97237543 </td><td> 0.101527158</td><td>-0.016122573</td><td>-0.095696766</td><td>0.25214138  </td></tr>\n",
       "\t<tr><td>26          </td><td>  0         </td><td>  0         </td><td>  0         </td><td> 0          </td><td>  0         </td><td>  0         </td><td>468         </td><td>-0.77038217 </td><td> 0.216282277</td><td>-0.073588274</td><td>-0.165764534</td><td>0.25546306  </td></tr>\n",
       "\t<tr><td>27          </td><td>  0         </td><td>  0         </td><td>  0         </td><td> 0          </td><td>  0         </td><td>  0         </td><td>450         </td><td>-0.89389011 </td><td> 0.158178852</td><td>-0.046066924</td><td>-0.124138293</td><td>0.25288212  </td></tr>\n",
       "\t<tr><td>28          </td><td>  0         </td><td>  1         </td><td>  0         </td><td> 0          </td><td>  0         </td><td>  5         </td><td>357         </td><td>-0.81856403 </td><td> 0.219637244</td><td>-0.060457147</td><td>-0.182029461</td><td>0.26133264  </td></tr>\n",
       "\t<tr><td>29          </td><td>  0         </td><td>  0         </td><td>  0         </td><td> 0          </td><td>  0         </td><td>  4         </td><td>344         </td><td>-0.78728280 </td><td> 0.216301980</td><td>-0.059595678</td><td>-0.151739334</td><td>0.25412971  </td></tr>\n",
       "\t<tr><td>30          </td><td>  0         </td><td>435         </td><td>  0         </td><td> 0          </td><td>  1         </td><td>  0         </td><td>  0         </td><td>-0.31708653 </td><td>-0.011402768</td><td> 0.012955266</td><td>-0.002641197</td><td>0.04918584  </td></tr>\n",
       "\t<tr><td>31          </td><td>  0         </td><td>  0         </td><td> 11         </td><td> 2          </td><td>449         </td><td>  0         </td><td>  0         </td><td>-0.45019534 </td><td>-0.011035543</td><td> 0.018253791</td><td>-0.009878651</td><td>0.06855943  </td></tr>\n",
       "\t<tr><td>32          </td><td>  0         </td><td>  0         </td><td>  0         </td><td> 1          </td><td>401         </td><td>  0         </td><td>  0         </td><td>-0.26037570 </td><td>-0.006188366</td><td> 0.020905438</td><td>-0.013002429</td><td>0.04412115  </td></tr>\n",
       "\t<tr><td>33          </td><td>  0         </td><td>  2         </td><td>  0         </td><td> 0          </td><td>  0         </td><td>  0         </td><td>453         </td><td>-0.77644237 </td><td> 0.214836692</td><td>-0.071614064</td><td>-0.168740148</td><td>0.25869925  </td></tr>\n",
       "\t<tr><td>34          </td><td>  0         </td><td>  0         </td><td>  0         </td><td> 2          </td><td>461         </td><td>  0         </td><td>  1         </td><td>-0.05952829 </td><td>-0.002368887</td><td> 0.005196653</td><td>-0.004182810</td><td>0.01337617  </td></tr>\n",
       "\t<tr><td>35          </td><td>  0         </td><td>  1         </td><td>  0         </td><td> 0          </td><td>  0         </td><td>  0         </td><td>449         </td><td>-0.79962414 </td><td> 0.200322965</td><td>-0.059605420</td><td>-0.154011257</td><td>0.25180515  </td></tr>\n",
       "\t<tr><td>36          </td><td>  0         </td><td>  0         </td><td>  4         </td><td> 2          </td><td>456         </td><td>  0         </td><td>  0         </td><td>-0.18701183 </td><td>-0.007663179</td><td> 0.011821867</td><td>-0.005593671</td><td>0.03203666  </td></tr>\n",
       "\t<tr><td>37          </td><td>178         </td><td> 12         </td><td>  0         </td><td> 1          </td><td>  0         </td><td>  0         </td><td>  2         </td><td>-0.11967549 </td><td>-0.014349750</td><td> 0.023779520</td><td>-0.016493454</td><td>0.02752595  </td></tr>\n",
       "\t<tr><td>38          </td><td>  0         </td><td>  0         </td><td>  3         </td><td> 2          </td><td>457         </td><td>  0         </td><td>  0         </td><td>-0.13146629 </td><td>-0.006738095</td><td> 0.010290498</td><td>-0.004757432</td><td>0.02415211  </td></tr>\n",
       "\t<tr><td>39          </td><td>  0         </td><td>  1         </td><td>  0         </td><td> 0          </td><td>  0         </td><td>  0         </td><td>450         </td><td>-0.81496383 </td><td> 0.190890377</td><td>-0.056984760</td><td>-0.145550384</td><td>0.25028168  </td></tr>\n",
       "\t<tr><td>40          </td><td>  0         </td><td>  0         </td><td>  0         </td><td> 2          </td><td>461         </td><td>  0         </td><td>  1         </td><td>-0.05988390 </td><td>-0.002266560</td><td> 0.005107837</td><td>-0.004222180</td><td>0.01342784  </td></tr>\n",
       "\t<tr><td>41          </td><td>  0         </td><td>  0         </td><td>  0         </td><td> 0          </td><td>  0         </td><td>  0         </td><td>468         </td><td>-0.77980305 </td><td> 0.216656624</td><td>-0.073723424</td><td>-0.167105024</td><td>0.25656295  </td></tr>\n",
       "\t<tr><td>42          </td><td>  1         </td><td>396         </td><td>  0         </td><td> 0          </td><td>  1         </td><td>  0         </td><td>  0         </td><td>-0.30308952 </td><td>-0.016779420</td><td> 0.019543573</td><td>-0.004160215</td><td>0.04798602  </td></tr>\n",
       "\t<tr><td>43          </td><td>  0         </td><td>435         </td><td>  0         </td><td> 0          </td><td>  1         </td><td>  0         </td><td>  0         </td><td>-0.31708370 </td><td>-0.011402672</td><td> 0.012955177</td><td>-0.002641206</td><td>0.04918544  </td></tr>\n",
       "\t<tr><td>44          </td><td>  0         </td><td>  1         </td><td>  0         </td><td> 0          </td><td>  0         </td><td>  0         </td><td>450         </td><td>-0.80370947 </td><td> 0.197100692</td><td>-0.059090213</td><td>-0.150381512</td><td>0.25073348  </td></tr>\n",
       "\t<tr><td>45          </td><td>  0         </td><td>  0         </td><td>  0         </td><td> 0          </td><td>  0         </td><td>  0         </td><td>450         </td><td>-0.82276333 </td><td> 0.187240153</td><td>-0.055697294</td><td>-0.142965802</td><td>0.25031168  </td></tr>\n",
       "\t<tr><td>46          </td><td>  0         </td><td>  0         </td><td>  7         </td><td> 2          </td><td>453         </td><td>  0         </td><td>  0         </td><td>-0.27907252 </td><td>-0.008878439</td><td> 0.014023957</td><td>-0.006976269</td><td>0.04488637  </td></tr>\n",
       "\t<tr><td>47          </td><td>  0         </td><td>435         </td><td>  0         </td><td> 0          </td><td>  1         </td><td>  0         </td><td>  0         </td><td>-0.31708651 </td><td>-0.011402767</td><td> 0.012955265</td><td>-0.002641197</td><td>0.04918584  </td></tr>\n",
       "\t<tr><td>48          </td><td>  0         </td><td>  0         </td><td> 16         </td><td> 2          </td><td>446         </td><td>  0         </td><td>  0         </td><td>-0.62279274 </td><td>-0.015294619</td><td> 0.026808835</td><td>-0.015558727</td><td>0.09322311  </td></tr>\n",
       "\t<tr><td>49          </td><td>  0         </td><td>  0         </td><td>  6         </td><td> 2          </td><td>454         </td><td>  0         </td><td>  0         </td><td>-0.25305427 </td><td>-0.008552647</td><td> 0.013416756</td><td>-0.006581089</td><td>0.04127159  </td></tr>\n",
       "\t<tr><td>50          </td><td>  6         </td><td>  0         </td><td>  0         </td><td>72          </td><td>  1         </td><td>  1         </td><td>  4         </td><td>-0.38347608 </td><td> 0.050516464</td><td> 0.012076543</td><td>-0.086332237</td><td>0.09102899  </td></tr>\n",
       "</tbody>\n",
       "</table>\n"
      ],
      "text/latex": [
       "\\begin{tabular}{r|lllllllllllll}\n",
       " cluster & V1 & bcells & dc & mk & mono & nk & tcells & s0 & X1 & X2 & X3 & nUMI\\\\\n",
       "\\hline\n",
       "\t  1           &   0          &   1          &   0          &  0           &   0          &   8          & 364          & -0.85182196  &  0.229491426 & -0.037482856 & -0.170800623 & 0.26143942  \\\\\n",
       "\t  2           &   0          &   0          &   0          &  0           &   0          &   0          & 450          & -0.82508769  &  0.186204721 & -0.055333431 & -0.142251014 & 0.25034563  \\\\\n",
       "\t  3           &   0          &   0          &   0          &  1           & 401          &   0          &   0          & -0.26037555  & -0.006188375 &  0.020905460 & -0.013002439 & 0.04412113  \\\\\n",
       "\t  4           &   0          &   1          &   0          &  0           &   2          & 434          &  34          & -0.89634126  &  0.095488858 &  0.002262912 & -0.098909823 & 0.18121190  \\\\\n",
       "\t  5           &   0          &   1          &   0          &  0           &   0          &   0          & 449          & -0.79958892  &  0.200096462 & -0.059867183 & -0.153265660 & 0.25142348  \\\\\n",
       "\t  6           &   0          &   0          &   2          &  2           & 458          &   0          &   0          & -0.10843841  & -0.006229278 &  0.009520894 & -0.004404784 & 0.02082503  \\\\\n",
       "\t  7           &   1          & 396          &   0          &  0           &   1          &   0          &   0          & -0.39669013  & -0.020856503 &  0.024085536 & -0.004895008 & 0.06110343  \\\\\n",
       "\t  8           &   0          &   0          &   0          &  0           &   1          &   0          & 465          & -0.79661423  &  0.197460966 & -0.062037249 & -0.159979133 & 0.25165223  \\\\\n",
       "\t  9           &   0          & 435          &   0          &  0           &   1          &   0          &   0          & -0.31708385  & -0.011402677 &  0.012955182 & -0.002641205 & 0.04918546  \\\\\n",
       "\t 10           &   0          &   0          &   0          &  0           &   0          &   0          & 450          & -0.83127338  &  0.183522514 & -0.054400020 & -0.140423886 & 0.25047072  \\\\\n",
       "\t 11           &   0          &   0          &   0          &  0           &   0          &   0          & 450          & -0.85538133  &  0.173607098 & -0.051052273 & -0.133894024 & 0.25124574  \\\\\n",
       "\t 12           &   0          &   0          &   0          &  0           &   1          &   0          & 468          & -0.78435669  &  0.214754956 & -0.070396699 & -0.168550670 & 0.25603571  \\\\\n",
       "\t 13           &   0          &   0          &   7          &  2           & 453          &   0          &   0          & -0.30097989  & -0.009148189 &  0.014534410 & -0.007314451 & 0.04792351  \\\\\n",
       "\t 14           &   0          &   0          &   9          &  2           & 452          &   0          &   0          & -0.35237600  & -0.009777586 &  0.015748905 & -0.008136129 & 0.05503411  \\\\\n",
       "\t 15           &   3          &   1          &   0          &  0           &   1          &   1          & 240          &  0.01536198  & -0.027350703 &  0.017529935 &  0.018302983 & 0.07265839  \\\\\n",
       "\t 16           &   0          &   1          &   0          &  0           &   2          & 434          &  34          & -0.89634380  &  0.094914305 &  0.002289673 & -0.098354145 & 0.18079881  \\\\\n",
       "\t 17           &   0          &   2          &   0          &  0           &   0          &  22          & 352          & -0.88397451  &  0.231080167 & -0.035824262 & -0.171988994 & 0.26463114  \\\\\n",
       "\t 18           &   0          & 435          &   0          &  0           &   1          &   0          &   0          & -0.31708373  & -0.011402673 &  0.012955178 & -0.002641206 & 0.04918545  \\\\\n",
       "\t 19           &   0          &   2          &   0          &  0           &   1          &   1          & 302          & -1.04481232  &  0.242258129 & -0.088487238 & -0.212164059 & 0.30977841  \\\\\n",
       "\t 20           &   0          &   0          &   0          &  0           &   0          &   0          & 450          & -0.83908105  &  0.180243256 & -0.053276585 & -0.138229757 & 0.25068184  \\\\\n",
       "\t 21           &   2          &   0          & 331          &  0           &  20          &   0          &   1          & -0.15498743  & -0.020979148 &  0.028477223 & -0.016462053 & 0.03796204  \\\\\n",
       "\t 22           &   0          &   0          &   0          &  0           &   0          &   0          & 450          & -0.82110203  &  0.187991813 & -0.055962662 & -0.143488426 & 0.25029277  \\\\\n",
       "\t 23           &   0          &   0          &   0          &  0           &   0          &   0          & 450          & -0.83665571  &  0.181252001 & -0.053620262 & -0.138900483 & 0.25061100  \\\\\n",
       "\t 24           &   0          &   1          &   0          &  0           &   0          &   4          & 358          & -0.82153145  &  0.221188181 & -0.063150706 & -0.180492604 & 0.26066484  \\\\\n",
       "\t 25           &   0          &   0          &   0          &  0           &   0          &   4          & 310          & -0.97237543  &  0.101527158 & -0.016122573 & -0.095696766 & 0.25214138  \\\\\n",
       "\t 26           &   0          &   0          &   0          &  0           &   0          &   0          & 468          & -0.77038217  &  0.216282277 & -0.073588274 & -0.165764534 & 0.25546306  \\\\\n",
       "\t 27           &   0          &   0          &   0          &  0           &   0          &   0          & 450          & -0.89389011  &  0.158178852 & -0.046066924 & -0.124138293 & 0.25288212  \\\\\n",
       "\t 28           &   0          &   1          &   0          &  0           &   0          &   5          & 357          & -0.81856403  &  0.219637244 & -0.060457147 & -0.182029461 & 0.26133264  \\\\\n",
       "\t 29           &   0          &   0          &   0          &  0           &   0          &   4          & 344          & -0.78728280  &  0.216301980 & -0.059595678 & -0.151739334 & 0.25412971  \\\\\n",
       "\t 30           &   0          & 435          &   0          &  0           &   1          &   0          &   0          & -0.31708653  & -0.011402768 &  0.012955266 & -0.002641197 & 0.04918584  \\\\\n",
       "\t 31           &   0          &   0          &  11          &  2           & 449          &   0          &   0          & -0.45019534  & -0.011035543 &  0.018253791 & -0.009878651 & 0.06855943  \\\\\n",
       "\t 32           &   0          &   0          &   0          &  1           & 401          &   0          &   0          & -0.26037570  & -0.006188366 &  0.020905438 & -0.013002429 & 0.04412115  \\\\\n",
       "\t 33           &   0          &   2          &   0          &  0           &   0          &   0          & 453          & -0.77644237  &  0.214836692 & -0.071614064 & -0.168740148 & 0.25869925  \\\\\n",
       "\t 34           &   0          &   0          &   0          &  2           & 461          &   0          &   1          & -0.05952829  & -0.002368887 &  0.005196653 & -0.004182810 & 0.01337617  \\\\\n",
       "\t 35           &   0          &   1          &   0          &  0           &   0          &   0          & 449          & -0.79962414  &  0.200322965 & -0.059605420 & -0.154011257 & 0.25180515  \\\\\n",
       "\t 36           &   0          &   0          &   4          &  2           & 456          &   0          &   0          & -0.18701183  & -0.007663179 &  0.011821867 & -0.005593671 & 0.03203666  \\\\\n",
       "\t 37           & 178          &  12          &   0          &  1           &   0          &   0          &   2          & -0.11967549  & -0.014349750 &  0.023779520 & -0.016493454 & 0.02752595  \\\\\n",
       "\t 38           &   0          &   0          &   3          &  2           & 457          &   0          &   0          & -0.13146629  & -0.006738095 &  0.010290498 & -0.004757432 & 0.02415211  \\\\\n",
       "\t 39           &   0          &   1          &   0          &  0           &   0          &   0          & 450          & -0.81496383  &  0.190890377 & -0.056984760 & -0.145550384 & 0.25028168  \\\\\n",
       "\t 40           &   0          &   0          &   0          &  2           & 461          &   0          &   1          & -0.05988390  & -0.002266560 &  0.005107837 & -0.004222180 & 0.01342784  \\\\\n",
       "\t 41           &   0          &   0          &   0          &  0           &   0          &   0          & 468          & -0.77980305  &  0.216656624 & -0.073723424 & -0.167105024 & 0.25656295  \\\\\n",
       "\t 42           &   1          & 396          &   0          &  0           &   1          &   0          &   0          & -0.30308952  & -0.016779420 &  0.019543573 & -0.004160215 & 0.04798602  \\\\\n",
       "\t 43           &   0          & 435          &   0          &  0           &   1          &   0          &   0          & -0.31708370  & -0.011402672 &  0.012955177 & -0.002641206 & 0.04918544  \\\\\n",
       "\t 44           &   0          &   1          &   0          &  0           &   0          &   0          & 450          & -0.80370947  &  0.197100692 & -0.059090213 & -0.150381512 & 0.25073348  \\\\\n",
       "\t 45           &   0          &   0          &   0          &  0           &   0          &   0          & 450          & -0.82276333  &  0.187240153 & -0.055697294 & -0.142965802 & 0.25031168  \\\\\n",
       "\t 46           &   0          &   0          &   7          &  2           & 453          &   0          &   0          & -0.27907252  & -0.008878439 &  0.014023957 & -0.006976269 & 0.04488637  \\\\\n",
       "\t 47           &   0          & 435          &   0          &  0           &   1          &   0          &   0          & -0.31708651  & -0.011402767 &  0.012955265 & -0.002641197 & 0.04918584  \\\\\n",
       "\t 48           &   0          &   0          &  16          &  2           & 446          &   0          &   0          & -0.62279274  & -0.015294619 &  0.026808835 & -0.015558727 & 0.09322311  \\\\\n",
       "\t 49           &   0          &   0          &   6          &  2           & 454          &   0          &   0          & -0.25305427  & -0.008552647 &  0.013416756 & -0.006581089 & 0.04127159  \\\\\n",
       "\t 50           &   6          &   0          &   0          & 72           &   1          &   1          &   4          & -0.38347608  &  0.050516464 &  0.012076543 & -0.086332237 & 0.09102899  \\\\\n",
       "\\end{tabular}\n"
      ],
      "text/markdown": [
       "\n",
       "| cluster | V1 | bcells | dc | mk | mono | nk | tcells | s0 | X1 | X2 | X3 | nUMI |\n",
       "|---|---|---|---|---|---|---|---|---|---|---|---|---|\n",
       "|  1           |   0          |   1          |   0          |  0           |   0          |   8          | 364          | -0.85182196  |  0.229491426 | -0.037482856 | -0.170800623 | 0.26143942   |\n",
       "|  2           |   0          |   0          |   0          |  0           |   0          |   0          | 450          | -0.82508769  |  0.186204721 | -0.055333431 | -0.142251014 | 0.25034563   |\n",
       "|  3           |   0          |   0          |   0          |  1           | 401          |   0          |   0          | -0.26037555  | -0.006188375 |  0.020905460 | -0.013002439 | 0.04412113   |\n",
       "|  4           |   0          |   1          |   0          |  0           |   2          | 434          |  34          | -0.89634126  |  0.095488858 |  0.002262912 | -0.098909823 | 0.18121190   |\n",
       "|  5           |   0          |   1          |   0          |  0           |   0          |   0          | 449          | -0.79958892  |  0.200096462 | -0.059867183 | -0.153265660 | 0.25142348   |\n",
       "|  6           |   0          |   0          |   2          |  2           | 458          |   0          |   0          | -0.10843841  | -0.006229278 |  0.009520894 | -0.004404784 | 0.02082503   |\n",
       "|  7           |   1          | 396          |   0          |  0           |   1          |   0          |   0          | -0.39669013  | -0.020856503 |  0.024085536 | -0.004895008 | 0.06110343   |\n",
       "|  8           |   0          |   0          |   0          |  0           |   1          |   0          | 465          | -0.79661423  |  0.197460966 | -0.062037249 | -0.159979133 | 0.25165223   |\n",
       "|  9           |   0          | 435          |   0          |  0           |   1          |   0          |   0          | -0.31708385  | -0.011402677 |  0.012955182 | -0.002641205 | 0.04918546   |\n",
       "| 10           |   0          |   0          |   0          |  0           |   0          |   0          | 450          | -0.83127338  |  0.183522514 | -0.054400020 | -0.140423886 | 0.25047072   |\n",
       "| 11           |   0          |   0          |   0          |  0           |   0          |   0          | 450          | -0.85538133  |  0.173607098 | -0.051052273 | -0.133894024 | 0.25124574   |\n",
       "| 12           |   0          |   0          |   0          |  0           |   1          |   0          | 468          | -0.78435669  |  0.214754956 | -0.070396699 | -0.168550670 | 0.25603571   |\n",
       "| 13           |   0          |   0          |   7          |  2           | 453          |   0          |   0          | -0.30097989  | -0.009148189 |  0.014534410 | -0.007314451 | 0.04792351   |\n",
       "| 14           |   0          |   0          |   9          |  2           | 452          |   0          |   0          | -0.35237600  | -0.009777586 |  0.015748905 | -0.008136129 | 0.05503411   |\n",
       "| 15           |   3          |   1          |   0          |  0           |   1          |   1          | 240          |  0.01536198  | -0.027350703 |  0.017529935 |  0.018302983 | 0.07265839   |\n",
       "| 16           |   0          |   1          |   0          |  0           |   2          | 434          |  34          | -0.89634380  |  0.094914305 |  0.002289673 | -0.098354145 | 0.18079881   |\n",
       "| 17           |   0          |   2          |   0          |  0           |   0          |  22          | 352          | -0.88397451  |  0.231080167 | -0.035824262 | -0.171988994 | 0.26463114   |\n",
       "| 18           |   0          | 435          |   0          |  0           |   1          |   0          |   0          | -0.31708373  | -0.011402673 |  0.012955178 | -0.002641206 | 0.04918545   |\n",
       "| 19           |   0          |   2          |   0          |  0           |   1          |   1          | 302          | -1.04481232  |  0.242258129 | -0.088487238 | -0.212164059 | 0.30977841   |\n",
       "| 20           |   0          |   0          |   0          |  0           |   0          |   0          | 450          | -0.83908105  |  0.180243256 | -0.053276585 | -0.138229757 | 0.25068184   |\n",
       "| 21           |   2          |   0          | 331          |  0           |  20          |   0          |   1          | -0.15498743  | -0.020979148 |  0.028477223 | -0.016462053 | 0.03796204   |\n",
       "| 22           |   0          |   0          |   0          |  0           |   0          |   0          | 450          | -0.82110203  |  0.187991813 | -0.055962662 | -0.143488426 | 0.25029277   |\n",
       "| 23           |   0          |   0          |   0          |  0           |   0          |   0          | 450          | -0.83665571  |  0.181252001 | -0.053620262 | -0.138900483 | 0.25061100   |\n",
       "| 24           |   0          |   1          |   0          |  0           |   0          |   4          | 358          | -0.82153145  |  0.221188181 | -0.063150706 | -0.180492604 | 0.26066484   |\n",
       "| 25           |   0          |   0          |   0          |  0           |   0          |   4          | 310          | -0.97237543  |  0.101527158 | -0.016122573 | -0.095696766 | 0.25214138   |\n",
       "| 26           |   0          |   0          |   0          |  0           |   0          |   0          | 468          | -0.77038217  |  0.216282277 | -0.073588274 | -0.165764534 | 0.25546306   |\n",
       "| 27           |   0          |   0          |   0          |  0           |   0          |   0          | 450          | -0.89389011  |  0.158178852 | -0.046066924 | -0.124138293 | 0.25288212   |\n",
       "| 28           |   0          |   1          |   0          |  0           |   0          |   5          | 357          | -0.81856403  |  0.219637244 | -0.060457147 | -0.182029461 | 0.26133264   |\n",
       "| 29           |   0          |   0          |   0          |  0           |   0          |   4          | 344          | -0.78728280  |  0.216301980 | -0.059595678 | -0.151739334 | 0.25412971   |\n",
       "| 30           |   0          | 435          |   0          |  0           |   1          |   0          |   0          | -0.31708653  | -0.011402768 |  0.012955266 | -0.002641197 | 0.04918584   |\n",
       "| 31           |   0          |   0          |  11          |  2           | 449          |   0          |   0          | -0.45019534  | -0.011035543 |  0.018253791 | -0.009878651 | 0.06855943   |\n",
       "| 32           |   0          |   0          |   0          |  1           | 401          |   0          |   0          | -0.26037570  | -0.006188366 |  0.020905438 | -0.013002429 | 0.04412115   |\n",
       "| 33           |   0          |   2          |   0          |  0           |   0          |   0          | 453          | -0.77644237  |  0.214836692 | -0.071614064 | -0.168740148 | 0.25869925   |\n",
       "| 34           |   0          |   0          |   0          |  2           | 461          |   0          |   1          | -0.05952829  | -0.002368887 |  0.005196653 | -0.004182810 | 0.01337617   |\n",
       "| 35           |   0          |   1          |   0          |  0           |   0          |   0          | 449          | -0.79962414  |  0.200322965 | -0.059605420 | -0.154011257 | 0.25180515   |\n",
       "| 36           |   0          |   0          |   4          |  2           | 456          |   0          |   0          | -0.18701183  | -0.007663179 |  0.011821867 | -0.005593671 | 0.03203666   |\n",
       "| 37           | 178          |  12          |   0          |  1           |   0          |   0          |   2          | -0.11967549  | -0.014349750 |  0.023779520 | -0.016493454 | 0.02752595   |\n",
       "| 38           |   0          |   0          |   3          |  2           | 457          |   0          |   0          | -0.13146629  | -0.006738095 |  0.010290498 | -0.004757432 | 0.02415211   |\n",
       "| 39           |   0          |   1          |   0          |  0           |   0          |   0          | 450          | -0.81496383  |  0.190890377 | -0.056984760 | -0.145550384 | 0.25028168   |\n",
       "| 40           |   0          |   0          |   0          |  2           | 461          |   0          |   1          | -0.05988390  | -0.002266560 |  0.005107837 | -0.004222180 | 0.01342784   |\n",
       "| 41           |   0          |   0          |   0          |  0           |   0          |   0          | 468          | -0.77980305  |  0.216656624 | -0.073723424 | -0.167105024 | 0.25656295   |\n",
       "| 42           |   1          | 396          |   0          |  0           |   1          |   0          |   0          | -0.30308952  | -0.016779420 |  0.019543573 | -0.004160215 | 0.04798602   |\n",
       "| 43           |   0          | 435          |   0          |  0           |   1          |   0          |   0          | -0.31708370  | -0.011402672 |  0.012955177 | -0.002641206 | 0.04918544   |\n",
       "| 44           |   0          |   1          |   0          |  0           |   0          |   0          | 450          | -0.80370947  |  0.197100692 | -0.059090213 | -0.150381512 | 0.25073348   |\n",
       "| 45           |   0          |   0          |   0          |  0           |   0          |   0          | 450          | -0.82276333  |  0.187240153 | -0.055697294 | -0.142965802 | 0.25031168   |\n",
       "| 46           |   0          |   0          |   7          |  2           | 453          |   0          |   0          | -0.27907252  | -0.008878439 |  0.014023957 | -0.006976269 | 0.04488637   |\n",
       "| 47           |   0          | 435          |   0          |  0           |   1          |   0          |   0          | -0.31708651  | -0.011402767 |  0.012955265 | -0.002641197 | 0.04918584   |\n",
       "| 48           |   0          |   0          |  16          |  2           | 446          |   0          |   0          | -0.62279274  | -0.015294619 |  0.026808835 | -0.015558727 | 0.09322311   |\n",
       "| 49           |   0          |   0          |   6          |  2           | 454          |   0          |   0          | -0.25305427  | -0.008552647 |  0.013416756 | -0.006581089 | 0.04127159   |\n",
       "| 50           |   6          |   0          |   0          | 72           |   1          |   1          |   4          | -0.38347608  |  0.050516464 |  0.012076543 | -0.086332237 | 0.09102899   |\n",
       "\n"
      ],
      "text/plain": [
       "   cluster V1  bcells dc  mk mono nk  tcells s0          X1          \n",
       "1   1        0   1      0  0   0    8 364    -0.85182196  0.229491426\n",
       "2   2        0   0      0  0   0    0 450    -0.82508769  0.186204721\n",
       "3   3        0   0      0  1 401    0   0    -0.26037555 -0.006188375\n",
       "4   4        0   1      0  0   2  434  34    -0.89634126  0.095488858\n",
       "5   5        0   1      0  0   0    0 449    -0.79958892  0.200096462\n",
       "6   6        0   0      2  2 458    0   0    -0.10843841 -0.006229278\n",
       "7   7        1 396      0  0   1    0   0    -0.39669013 -0.020856503\n",
       "8   8        0   0      0  0   1    0 465    -0.79661423  0.197460966\n",
       "9   9        0 435      0  0   1    0   0    -0.31708385 -0.011402677\n",
       "10 10        0   0      0  0   0    0 450    -0.83127338  0.183522514\n",
       "11 11        0   0      0  0   0    0 450    -0.85538133  0.173607098\n",
       "12 12        0   0      0  0   1    0 468    -0.78435669  0.214754956\n",
       "13 13        0   0      7  2 453    0   0    -0.30097989 -0.009148189\n",
       "14 14        0   0      9  2 452    0   0    -0.35237600 -0.009777586\n",
       "15 15        3   1      0  0   1    1 240     0.01536198 -0.027350703\n",
       "16 16        0   1      0  0   2  434  34    -0.89634380  0.094914305\n",
       "17 17        0   2      0  0   0   22 352    -0.88397451  0.231080167\n",
       "18 18        0 435      0  0   1    0   0    -0.31708373 -0.011402673\n",
       "19 19        0   2      0  0   1    1 302    -1.04481232  0.242258129\n",
       "20 20        0   0      0  0   0    0 450    -0.83908105  0.180243256\n",
       "21 21        2   0    331  0  20    0   1    -0.15498743 -0.020979148\n",
       "22 22        0   0      0  0   0    0 450    -0.82110203  0.187991813\n",
       "23 23        0   0      0  0   0    0 450    -0.83665571  0.181252001\n",
       "24 24        0   1      0  0   0    4 358    -0.82153145  0.221188181\n",
       "25 25        0   0      0  0   0    4 310    -0.97237543  0.101527158\n",
       "26 26        0   0      0  0   0    0 468    -0.77038217  0.216282277\n",
       "27 27        0   0      0  0   0    0 450    -0.89389011  0.158178852\n",
       "28 28        0   1      0  0   0    5 357    -0.81856403  0.219637244\n",
       "29 29        0   0      0  0   0    4 344    -0.78728280  0.216301980\n",
       "30 30        0 435      0  0   1    0   0    -0.31708653 -0.011402768\n",
       "31 31        0   0     11  2 449    0   0    -0.45019534 -0.011035543\n",
       "32 32        0   0      0  1 401    0   0    -0.26037570 -0.006188366\n",
       "33 33        0   2      0  0   0    0 453    -0.77644237  0.214836692\n",
       "34 34        0   0      0  2 461    0   1    -0.05952829 -0.002368887\n",
       "35 35        0   1      0  0   0    0 449    -0.79962414  0.200322965\n",
       "36 36        0   0      4  2 456    0   0    -0.18701183 -0.007663179\n",
       "37 37      178  12      0  1   0    0   2    -0.11967549 -0.014349750\n",
       "38 38        0   0      3  2 457    0   0    -0.13146629 -0.006738095\n",
       "39 39        0   1      0  0   0    0 450    -0.81496383  0.190890377\n",
       "40 40        0   0      0  2 461    0   1    -0.05988390 -0.002266560\n",
       "41 41        0   0      0  0   0    0 468    -0.77980305  0.216656624\n",
       "42 42        1 396      0  0   1    0   0    -0.30308952 -0.016779420\n",
       "43 43        0 435      0  0   1    0   0    -0.31708370 -0.011402672\n",
       "44 44        0   1      0  0   0    0 450    -0.80370947  0.197100692\n",
       "45 45        0   0      0  0   0    0 450    -0.82276333  0.187240153\n",
       "46 46        0   0      7  2 453    0   0    -0.27907252 -0.008878439\n",
       "47 47        0 435      0  0   1    0   0    -0.31708651 -0.011402767\n",
       "48 48        0   0     16  2 446    0   0    -0.62279274 -0.015294619\n",
       "49 49        0   0      6  2 454    0   0    -0.25305427 -0.008552647\n",
       "50 50        6   0      0 72   1    1   4    -0.38347608  0.050516464\n",
       "   X2           X3           nUMI      \n",
       "1  -0.037482856 -0.170800623 0.26143942\n",
       "2  -0.055333431 -0.142251014 0.25034563\n",
       "3   0.020905460 -0.013002439 0.04412113\n",
       "4   0.002262912 -0.098909823 0.18121190\n",
       "5  -0.059867183 -0.153265660 0.25142348\n",
       "6   0.009520894 -0.004404784 0.02082503\n",
       "7   0.024085536 -0.004895008 0.06110343\n",
       "8  -0.062037249 -0.159979133 0.25165223\n",
       "9   0.012955182 -0.002641205 0.04918546\n",
       "10 -0.054400020 -0.140423886 0.25047072\n",
       "11 -0.051052273 -0.133894024 0.25124574\n",
       "12 -0.070396699 -0.168550670 0.25603571\n",
       "13  0.014534410 -0.007314451 0.04792351\n",
       "14  0.015748905 -0.008136129 0.05503411\n",
       "15  0.017529935  0.018302983 0.07265839\n",
       "16  0.002289673 -0.098354145 0.18079881\n",
       "17 -0.035824262 -0.171988994 0.26463114\n",
       "18  0.012955178 -0.002641206 0.04918545\n",
       "19 -0.088487238 -0.212164059 0.30977841\n",
       "20 -0.053276585 -0.138229757 0.25068184\n",
       "21  0.028477223 -0.016462053 0.03796204\n",
       "22 -0.055962662 -0.143488426 0.25029277\n",
       "23 -0.053620262 -0.138900483 0.25061100\n",
       "24 -0.063150706 -0.180492604 0.26066484\n",
       "25 -0.016122573 -0.095696766 0.25214138\n",
       "26 -0.073588274 -0.165764534 0.25546306\n",
       "27 -0.046066924 -0.124138293 0.25288212\n",
       "28 -0.060457147 -0.182029461 0.26133264\n",
       "29 -0.059595678 -0.151739334 0.25412971\n",
       "30  0.012955266 -0.002641197 0.04918584\n",
       "31  0.018253791 -0.009878651 0.06855943\n",
       "32  0.020905438 -0.013002429 0.04412115\n",
       "33 -0.071614064 -0.168740148 0.25869925\n",
       "34  0.005196653 -0.004182810 0.01337617\n",
       "35 -0.059605420 -0.154011257 0.25180515\n",
       "36  0.011821867 -0.005593671 0.03203666\n",
       "37  0.023779520 -0.016493454 0.02752595\n",
       "38  0.010290498 -0.004757432 0.02415211\n",
       "39 -0.056984760 -0.145550384 0.25028168\n",
       "40  0.005107837 -0.004222180 0.01342784\n",
       "41 -0.073723424 -0.167105024 0.25656295\n",
       "42  0.019543573 -0.004160215 0.04798602\n",
       "43  0.012955177 -0.002641206 0.04918544\n",
       "44 -0.059090213 -0.150381512 0.25073348\n",
       "45 -0.055697294 -0.142965802 0.25031168\n",
       "46  0.014023957 -0.006976269 0.04488637\n",
       "47  0.012955265 -0.002641197 0.04918584\n",
       "48  0.026808835 -0.015558727 0.09322311\n",
       "49  0.013416756 -0.006581089 0.04127159\n",
       "50  0.012076543 -0.086332237 0.09102899"
      ]
     },
     "metadata": {},
     "output_type": "display_data"
    }
   ],
   "source": [
    "fig.size(2.5, 5)\n",
    "tcrossprod(harmonyObj$R, t(harmony:::onehot(meta_data$cell_type))) %>% round %>%\n",
    "    cbind(\n",
    "        pres\n",
    "    ) %>% \n",
    "    tibble::rowid_to_column('cluster') "
   ]
  },
  {
   "cell_type": "markdown",
   "metadata": {},
   "source": [
    "## Estimate cell distribution\n",
    "\n",
    "Model each cell as a mixture of Poissons, based on Harmony soft clusters\n",
    "\n",
    "\n",
    "Then compute Pearson residuals of genes inside each cell \n",
    "\n",
    "\n",
    "M-step of Poisson mixture EM algorithm\n",
    "\n",
    "https://www.cs.helsinki.fi/u/bmmalone/probabilistic-models-spring-2014/mixture-of-poissons.pdf\n",
    "\n",
    "https://www.cs.helsinki.fi/u/bmmalone/probabilistic-models-spring-2014/PoissonMixtureModels.pdf\n",
    "\n",
    "\n"
   ]
  },
  {
   "cell_type": "code",
   "execution_count": 103,
   "metadata": {},
   "outputs": [
    {
     "data": {
      "text/html": [
       "<table>\n",
       "<tbody>\n",
       "\t<tr><td>8.009762</td></tr>\n",
       "\t<tr><td>8.174762</td></tr>\n",
       "\t<tr><td>8.670552</td></tr>\n",
       "\t<tr><td>7.994048</td></tr>\n",
       "\t<tr><td>8.232074</td></tr>\n",
       "\t<tr><td>8.110818</td></tr>\n",
       "</tbody>\n",
       "</table>\n"
      ],
      "text/latex": [
       "\\begin{tabular}{l}\n",
       "\t 8.009762\\\\\n",
       "\t 8.174762\\\\\n",
       "\t 8.670552\\\\\n",
       "\t 7.994048\\\\\n",
       "\t 8.232074\\\\\n",
       "\t 8.110818\\\\\n",
       "\\end{tabular}\n"
      ],
      "text/markdown": [
       "\n",
       "| 8.009762 |\n",
       "| 8.174762 |\n",
       "| 8.670552 |\n",
       "| 7.994048 |\n",
       "| 8.232074 |\n",
       "| 8.110818 |\n",
       "\n"
      ],
      "text/plain": [
       "     [,1]    \n",
       "[1,] 8.009762\n",
       "[2,] 8.174762\n",
       "[3,] 8.670552\n",
       "[4,] 7.994048\n",
       "[5,] 8.232074\n",
       "[6,] 8.110818"
      ]
     },
     "metadata": {},
     "output_type": "display_data"
    }
   ],
   "source": [
    "expected_logUMI <- tcrossprod(harmonyObj$R, matrix(log(meta_data$nUMI), nrow = 1)) / rowSums(harmonyObj$R)\n",
    "head(expected_logUMI)"
   ]
  },
  {
   "cell_type": "code",
   "execution_count": 107,
   "metadata": {},
   "outputs": [],
   "source": [
    "## find residuals for each cluster\n",
    "mu <- exp(tcrossprod(cbind(1, meta_use), as.matrix(pres)))\n",
    "# resid <- sweep(-mu, 1, exprs_raw['CD3E', , drop = FALSE], '+')\n",
    "resid <- sweep(-mu, 1, log1p(exprs_raw['CD3E', , drop = FALSE]), '+')\n",
    "\n",
    "## compute mean expression of 1 cell within each cluster\n",
    "## each cluster can have different depth \n",
    "expert_means <- exp(pres[, 1] + pres[, 'nUMI'] * expected_logUMI) %>% unlist %>% as.numeric\n",
    "# expert_means <- exp(pres[, 1] + pres[, 'nUMI'] * log(1e4)) %>% unlist %>% as.numeric\n",
    "\n",
    "## add residual counts to batch free counts\n",
    "counts <- sweep(resid, 2, expert_means, '+')\n",
    "counts <- rowSums(counts * t(harmonyObj$R))"
   ]
  },
  {
   "cell_type": "code",
   "execution_count": 108,
   "metadata": {},
   "outputs": [
    {
     "data": {
      "text/html": [
       "<dl>\n",
       "\t<dt>[[1]]</dt>\n",
       "\t\t<dd>0.12768239600164</dd>\n",
       "\t<dt>$bcells</dt>\n",
       "\t\t<dd>0.0893276972989824</dd>\n",
       "\t<dt>$dc</dt>\n",
       "\t\t<dd>0.160325219725935</dd>\n",
       "\t<dt>$mk</dt>\n",
       "\t\t<dd>0.267613875620341</dd>\n",
       "\t<dt>$mono</dt>\n",
       "\t\t<dd>0.0972936771989856</dd>\n",
       "\t<dt>$nk</dt>\n",
       "\t\t<dd>0.491424455225576</dd>\n",
       "\t<dt>$tcells</dt>\n",
       "\t\t<dd>1.15890693586018</dd>\n",
       "</dl>\n"
      ],
      "text/latex": [
       "\\begin{description}\n",
       "\\item[{[[1]]}] 0.12768239600164\n",
       "\\item[\\$bcells] 0.0893276972989824\n",
       "\\item[\\$dc] 0.160325219725935\n",
       "\\item[\\$mk] 0.267613875620341\n",
       "\\item[\\$mono] 0.0972936771989856\n",
       "\\item[\\$nk] 0.491424455225576\n",
       "\\item[\\$tcells] 1.15890693586018\n",
       "\\end{description}\n"
      ],
      "text/markdown": [
       "[[1]]\n",
       ":   0.12768239600164\n",
       "$bcells\n",
       ":   0.0893276972989824\n",
       "$dc\n",
       ":   0.160325219725935\n",
       "$mk\n",
       ":   0.267613875620341\n",
       "$mono\n",
       ":   0.0972936771989856\n",
       "$nk\n",
       ":   0.491424455225576\n",
       "$tcells\n",
       ":   1.15890693586018\n",
       "\n",
       "\n"
      ],
      "text/plain": [
       "[[1]]\n",
       "[1] 0.1276824\n",
       "\n",
       "$bcells\n",
       "[1] 0.0893277\n",
       "\n",
       "$dc\n",
       "[1] 0.1603252\n",
       "\n",
       "$mk\n",
       "[1] 0.2676139\n",
       "\n",
       "$mono\n",
       "[1] 0.09729368\n",
       "\n",
       "$nk\n",
       "[1] 0.4914245\n",
       "\n",
       "$tcells\n",
       "[1] 1.158907\n"
      ]
     },
     "metadata": {},
     "output_type": "display_data"
    },
    {
     "data": {
      "text/html": [
       "<dl>\n",
       "\t<dt>[[1]]</dt>\n",
       "\t\t<dd>0.251282051282051</dd>\n",
       "\t<dt>$bcells</dt>\n",
       "\t\t<dd>0.212404134711571</dd>\n",
       "\t<dt>$dc</dt>\n",
       "\t\t<dd>0.336683417085427</dd>\n",
       "\t<dt>$mk</dt>\n",
       "\t\t<dd>0.595959595959596</dd>\n",
       "\t<dt>$mono</dt>\n",
       "\t\t<dd>0.205237932214995</dd>\n",
       "\t<dt>$nk</dt>\n",
       "\t\t<dd>1.15075921908894</dd>\n",
       "\t<dt>$tcells</dt>\n",
       "\t\t<dd>3.29220592464768</dd>\n",
       "</dl>\n"
      ],
      "text/latex": [
       "\\begin{description}\n",
       "\\item[{[[1]]}] 0.251282051282051\n",
       "\\item[\\$bcells] 0.212404134711571\n",
       "\\item[\\$dc] 0.336683417085427\n",
       "\\item[\\$mk] 0.595959595959596\n",
       "\\item[\\$mono] 0.205237932214995\n",
       "\\item[\\$nk] 1.15075921908894\n",
       "\\item[\\$tcells] 3.29220592464768\n",
       "\\end{description}\n"
      ],
      "text/markdown": [
       "[[1]]\n",
       ":   0.251282051282051\n",
       "$bcells\n",
       ":   0.212404134711571\n",
       "$dc\n",
       ":   0.336683417085427\n",
       "$mk\n",
       ":   0.595959595959596\n",
       "$mono\n",
       ":   0.205237932214995\n",
       "$nk\n",
       ":   1.15075921908894\n",
       "$tcells\n",
       ":   3.29220592464768\n",
       "\n",
       "\n"
      ],
      "text/plain": [
       "[[1]]\n",
       "[1] 0.2512821\n",
       "\n",
       "$bcells\n",
       "[1] 0.2124041\n",
       "\n",
       "$dc\n",
       "[1] 0.3366834\n",
       "\n",
       "$mk\n",
       "[1] 0.5959596\n",
       "\n",
       "$mono\n",
       "[1] 0.2052379\n",
       "\n",
       "$nk\n",
       "[1] 1.150759\n",
       "\n",
       "$tcells\n",
       "[1] 3.292206\n"
      ]
     },
     "metadata": {},
     "output_type": "display_data"
    }
   ],
   "source": [
    "split(counts, meta_data$cell_type) %>% lapply(mean)\n",
    "split(exprs_raw['CD3E', ], meta_data$cell_type) %>% lapply(mean)"
   ]
  },
  {
   "cell_type": "code",
   "execution_count": 71,
   "metadata": {},
   "outputs": [
    {
     "data": {
      "text/html": [
       "<table>\n",
       "<thead><tr><th scope=col>cell_type</th><th scope=col>V1</th></tr></thead>\n",
       "<tbody>\n",
       "\t<tr><td>bcells </td><td> 3672.0</td></tr>\n",
       "\t<tr><td>mono   </td><td> 3970.5</td></tr>\n",
       "\t<tr><td>tcells </td><td> 3877.0</td></tr>\n",
       "\t<tr><td>dc     </td><td>12228.0</td></tr>\n",
       "\t<tr><td>nk     </td><td> 3105.0</td></tr>\n",
       "\t<tr><td>mk     </td><td> 4162.0</td></tr>\n",
       "\t<tr><td>       </td><td> 7416.0</td></tr>\n",
       "</tbody>\n",
       "</table>\n"
      ],
      "text/latex": [
       "\\begin{tabular}{r|ll}\n",
       " cell\\_type & V1\\\\\n",
       "\\hline\n",
       "\t bcells  &  3672.0\\\\\n",
       "\t mono    &  3970.5\\\\\n",
       "\t tcells  &  3877.0\\\\\n",
       "\t dc      & 12228.0\\\\\n",
       "\t nk      &  3105.0\\\\\n",
       "\t mk      &  4162.0\\\\\n",
       "\t         &  7416.0\\\\\n",
       "\\end{tabular}\n"
      ],
      "text/markdown": [
       "\n",
       "| cell_type | V1 |\n",
       "|---|---|\n",
       "| bcells  |  3672.0 |\n",
       "| mono    |  3970.5 |\n",
       "| tcells  |  3877.0 |\n",
       "| dc      | 12228.0 |\n",
       "| nk      |  3105.0 |\n",
       "| mk      |  4162.0 |\n",
       "|         |  7416.0 |\n",
       "\n"
      ],
      "text/plain": [
       "  cell_type V1     \n",
       "1 bcells     3672.0\n",
       "2 mono       3970.5\n",
       "3 tcells     3877.0\n",
       "4 dc        12228.0\n",
       "5 nk         3105.0\n",
       "6 mk         4162.0\n",
       "7            7416.0"
      ]
     },
     "metadata": {},
     "output_type": "display_data"
    }
   ],
   "source": [
    "data.table(meta_data)[, median(nUMI), by = cell_type]"
   ]
  },
  {
   "cell_type": "code",
   "execution_count": 109,
   "metadata": {},
   "outputs": [
    {
     "data": {
      "image/png": "[encoded data removed]",
      "text/plain": [
       "Plot with title “Histogram of counts”"
      ]
     },
     "metadata": {},
     "output_type": "display_data"
    },
    {
     "data": {
      "image/png": "[encoded data removed]",
      "text/plain": [
       "Plot with title “Histogram of exprs_norm[\"CD3E\", ]”"
      ]
     },
     "metadata": {},
     "output_type": "display_data"
    },
    {
     "data": {
      "image/png": "[encoded data removed]",
      "text/plain": [
       "Plot with title “Histogram of (exprs_raw[\"CD3E\", ])”"
      ]
     },
     "metadata": {},
     "output_type": "display_data"
    }
   ],
   "source": [
    "hist(counts)\n",
    "# hist(X_lin['CD3E', ])\n",
    "# hist(log1p(counts))\n",
    "hist(exprs_norm['CD3E', ])\n",
    "hist((exprs_raw['CD3E', ]))\n",
    "# hist(log1p(exprs_raw['CD3E', ]))\n"
   ]
  },
  {
   "cell_type": "code",
   "execution_count": 32,
   "metadata": {},
   "outputs": [
    {
     "data": {
      "text/html": [
       "0.712831482417606"
      ],
      "text/latex": [
       "0.712831482417606"
      ],
      "text/markdown": [
       "0.712831482417606"
      ],
      "text/plain": [
       "[1] 0.7128315"
      ]
     },
     "metadata": {},
     "output_type": "display_data"
    },
    {
     "data": {
      "text/html": [
       "0.578479646103106"
      ],
      "text/latex": [
       "0.578479646103106"
      ],
      "text/markdown": [
       "0.578479646103106"
      ],
      "text/plain": [
       "[1] 0.5784796"
      ]
     },
     "metadata": {},
     "output_type": "display_data"
    }
   ],
   "source": [
    "mean(log1p(counts))\n",
    "var(log1p(counts))"
   ]
  },
  {
   "cell_type": "markdown",
   "metadata": {},
   "source": [
    "# Speed issues\n",
    "\n",
    "It is super super slow to do the Poisson model for every single fucking gene\n",
    "\n",
    "What are the alternatives? \n",
    "\n",
    "    - Linear regression? It gives a pretty good PCA result. We can also correct for nUMI to account for depth. \n",
    "    - Christoph uses only 2000 genes and estimates mu and theta with smoothing for the rest\n",
    "    - Some kind of approximation? "
   ]
  },
  {
   "cell_type": "markdown",
   "metadata": {},
   "source": [
    "## Linear approximations\n",
    "\n",
    "    1) account for nUMI confounded with \n",
    "    2) \n",
    "    3) compare how Gaussian the result is compare to Poisson"
   ]
  },
  {
   "cell_type": "code",
   "execution_count": null,
   "metadata": {},
   "outputs": [],
   "source": []
  },
  {
   "cell_type": "markdown",
   "metadata": {},
   "source": [
    "# Better linear model"
   ]
  },
  {
   "cell_type": "markdown",
   "metadata": {},
   "source": [
    "## GOAL1: model log(nUMI)\n",
    "\n",
    "    - Let's model the raw counts directly, not the CPM. \n",
    "    - Will I get the same results as in glmnet? \n"
   ]
  },
  {
   "cell_type": "code",
   "execution_count": 33,
   "metadata": {},
   "outputs": [],
   "source": [
    "sourceCpp('utils.cpp')"
   ]
  },
  {
   "cell_type": "code",
   "execution_count": 94,
   "metadata": {},
   "outputs": [],
   "source": [
    "# exprs_dense <- log1p(as.matrix(exprs_norm))\n",
    "exprs_dense <- log1p(as.matrix(exprs_raw))\n",
    "X <- as.matrix(exprs_dense[c('CD3E', 'CD14'), , drop = FALSE])\n",
    "R <- harmonyObj$R\n",
    "\n",
    "design <- harmonyObj$Phi_moe\n",
    "design <- rbind(design, log(meta_data$nUMI))\n",
    "lambda <- diag(c(0, rep(1, nrow(design) - 1)))\n",
    "expected_logUMI <- tcrossprod(R, matrix(log(meta_data$nUMI), nrow = 1)) / rowSums(R)\n"
   ]
  },
  {
   "cell_type": "markdown",
   "metadata": {},
   "source": [
    "    - Remove batch variables\n",
    "    - Fix to mean log nUMI\n",
    "    "
   ]
  },
  {
   "cell_type": "code",
   "execution_count": 95,
   "metadata": {},
   "outputs": [
    {
     "data": {
      "text/plain": [
       "   user  system elapsed \n",
       "  2.549   0.001   0.111 "
      ]
     },
     "metadata": {},
     "output_type": "display_data"
    }
   ],
   "source": [
    "system.time({\n",
    "    X2 <- moe_gene(X, design, R, lambda, expected_logUMI)\n",
    "})\n",
    "    "
   ]
  },
  {
   "cell_type": "code",
   "execution_count": 96,
   "metadata": {},
   "outputs": [
    {
     "name": "stderr",
     "output_type": "stream",
     "text": [
      "raw\n"
     ]
    },
    {
     "data": {
      "text/html": [
       "<dl>\n",
       "\t<dt>[[1]]</dt>\n",
       "\t\t<dd>0.146615702323759</dd>\n",
       "\t<dt>$bcells</dt>\n",
       "\t\t<dd>0.0942898943539962</dd>\n",
       "\t<dt>$dc</dt>\n",
       "\t\t<dd>0.174311925165685</dd>\n",
       "\t<dt>$mk</dt>\n",
       "\t\t<dd>0.258808122210415</dd>\n",
       "\t<dt>$mono</dt>\n",
       "\t\t<dd>0.0988799114495552</dd>\n",
       "\t<dt>$nk</dt>\n",
       "\t\t<dd>0.516964658529974</dd>\n",
       "\t<dt>$tcells</dt>\n",
       "\t\t<dd>1.25549708981788</dd>\n",
       "</dl>\n"
      ],
      "text/latex": [
       "\\begin{description}\n",
       "\\item[{[[1]]}] 0.146615702323759\n",
       "\\item[\\$bcells] 0.0942898943539962\n",
       "\\item[\\$dc] 0.174311925165685\n",
       "\\item[\\$mk] 0.258808122210415\n",
       "\\item[\\$mono] 0.0988799114495552\n",
       "\\item[\\$nk] 0.516964658529974\n",
       "\\item[\\$tcells] 1.25549708981788\n",
       "\\end{description}\n"
      ],
      "text/markdown": [
       "[[1]]\n",
       ":   0.146615702323759\n",
       "$bcells\n",
       ":   0.0942898943539962\n",
       "$dc\n",
       ":   0.174311925165685\n",
       "$mk\n",
       ":   0.258808122210415\n",
       "$mono\n",
       ":   0.0988799114495552\n",
       "$nk\n",
       ":   0.516964658529974\n",
       "$tcells\n",
       ":   1.25549708981788\n",
       "\n",
       "\n"
      ],
      "text/plain": [
       "[[1]]\n",
       "[1] 0.1466157\n",
       "\n",
       "$bcells\n",
       "[1] 0.09428989\n",
       "\n",
       "$dc\n",
       "[1] 0.1743119\n",
       "\n",
       "$mk\n",
       "[1] 0.2588081\n",
       "\n",
       "$mono\n",
       "[1] 0.09887991\n",
       "\n",
       "$nk\n",
       "[1] 0.5169647\n",
       "\n",
       "$tcells\n",
       "[1] 1.255497\n"
      ]
     },
     "metadata": {},
     "output_type": "display_data"
    },
    {
     "name": "stderr",
     "output_type": "stream",
     "text": [
      "moe\n"
     ]
    },
    {
     "data": {
      "text/html": [
       "<dl>\n",
       "\t<dt>[[1]]</dt>\n",
       "\t\t<dd>0.123675086627423</dd>\n",
       "\t<dt>$bcells</dt>\n",
       "\t\t<dd>0.129956031786222</dd>\n",
       "\t<dt>$dc</dt>\n",
       "\t\t<dd>0.153977677519981</dd>\n",
       "\t<dt>$mk</dt>\n",
       "\t\t<dd>0.268751377606014</dd>\n",
       "\t<dt>$mono</dt>\n",
       "\t\t<dd>0.111302635382694</dd>\n",
       "\t<dt>$nk</dt>\n",
       "\t\t<dd>0.52624563141157</dd>\n",
       "\t<dt>$tcells</dt>\n",
       "\t\t<dd>1.26807069199134</dd>\n",
       "</dl>\n"
      ],
      "text/latex": [
       "\\begin{description}\n",
       "\\item[{[[1]]}] 0.123675086627423\n",
       "\\item[\\$bcells] 0.129956031786222\n",
       "\\item[\\$dc] 0.153977677519981\n",
       "\\item[\\$mk] 0.268751377606014\n",
       "\\item[\\$mono] 0.111302635382694\n",
       "\\item[\\$nk] 0.52624563141157\n",
       "\\item[\\$tcells] 1.26807069199134\n",
       "\\end{description}\n"
      ],
      "text/markdown": [
       "[[1]]\n",
       ":   0.123675086627423\n",
       "$bcells\n",
       ":   0.129956031786222\n",
       "$dc\n",
       ":   0.153977677519981\n",
       "$mk\n",
       ":   0.268751377606014\n",
       "$mono\n",
       ":   0.111302635382694\n",
       "$nk\n",
       ":   0.52624563141157\n",
       "$tcells\n",
       ":   1.26807069199134\n",
       "\n",
       "\n"
      ],
      "text/plain": [
       "[[1]]\n",
       "[1] 0.1236751\n",
       "\n",
       "$bcells\n",
       "[1] 0.129956\n",
       "\n",
       "$dc\n",
       "[1] 0.1539777\n",
       "\n",
       "$mk\n",
       "[1] 0.2687514\n",
       "\n",
       "$mono\n",
       "[1] 0.1113026\n",
       "\n",
       "$nk\n",
       "[1] 0.5262456\n",
       "\n",
       "$tcells\n",
       "[1] 1.268071\n"
      ]
     },
     "metadata": {},
     "output_type": "display_data"
    }
   ],
   "source": [
    "message('raw')\n",
    "split(X[1, ], meta_data$cell_type) %>% lapply(mean)\n",
    "\n",
    "message('moe')\n",
    "split(X2[1, ], meta_data$cell_type) %>% lapply(mean)\n",
    "\n",
    "# message('glm')\n",
    "# split(counts, meta_data$cell_type) %>% lapply(mean)\n",
    "\n"
   ]
  },
  {
   "cell_type": "code",
   "execution_count": 100,
   "metadata": {},
   "outputs": [],
   "source": [
    "# hist(X2[1, ])\n",
    "# hist(counts)"
   ]
  },
  {
   "cell_type": "code",
   "execution_count": 1085,
   "metadata": {},
   "outputs": [],
   "source": [
    "# hist(X2[1, ])"
   ]
  },
  {
   "cell_type": "code",
   "execution_count": 983,
   "metadata": {},
   "outputs": [],
   "source": [
    "# moe_gene_R <- function(X, Phi, R, lambda, expected_logUMI) {\n",
    "#     X_corr <- X\n",
    "#     for (k in 1:nrow(R)) {\n",
    "# #         message(k)\n",
    "#         Phi_Rk <- Phi %*% diag(R[k, ])\n",
    "# #         W <- solve(tcrossprod(Phi_Rk, Phi) + ncol(R) * lambda) %*% Phi_Rk %*% t(X)\n",
    "#         W <- solve(tcrossprod(Phi_Rk, Phi) + sum(R[k, ]) * lambda) %*% Phi_Rk %*% t(X)\n",
    "# #         W <- solve(tcrossprod(Phi_Rk, Phi) + lambda) %*% Phi_Rk %*% t(X)\n",
    "#         if (k < 7) {\n",
    "#             print(t(W))\n",
    "#         }\n",
    "        \n",
    "#         W[1, ] <- 0\n",
    "#         X_corr <- X_corr - crossprod(W, Phi_Rk)  \n",
    "#         X_corr <- X_corr + expected_logUMI[k, ] * t(W[nrow(W), , drop = FALSE]) %*% R[k, , drop = FALSE]        \n",
    "#     }\n",
    "#     return(X_corr)\n",
    "# }"
   ]
  },
  {
   "cell_type": "code",
   "execution_count": 984,
   "metadata": {},
   "outputs": [
    {
     "name": "stdout",
     "output_type": "stream",
     "text": [
      "           [,1]         [,2]       [,3]        [,4]       [,5]\n",
      "CD3E -0.1162583 -0.004354174 0.01481781 -0.01046364 0.02538067\n",
      "         [,1]       [,2]        [,3]        [,4]       [,5]\n",
      "CD3E 1.512771 0.07419055 -0.04004208 -0.03414846 0.04425419\n",
      "          [,1]        [,2]        [,3]       [,4]        [,5]\n",
      "CD3E 0.8194601 -0.05767672 -0.01960796 0.07728468 -0.06455535\n",
      "           [,1]         [,2]       [,3]        [,4]       [,5]\n",
      "CD3E -0.1178096 -0.004976358 0.01554831 -0.01057195 0.02569155\n",
      "         [,1]       [,2]        [,3]        [,4]       [,5]\n",
      "CD3E 2.080715 0.06964112 -0.05767405 -0.01196707 0.01195129\n",
      "           [,1]         [,2]       [,3]        [,4]       [,5]\n",
      "CD3E -0.1178027 -0.004974318 0.01554596 -0.01057165 0.02569032\n"
     ]
    }
   ],
   "source": [
    "# # idx <- sample(ncol(X), 1000)\n",
    "# # X3 <- moe_gene_R(X[1, , drop = FALSE], design, R, lambda, expected_logUMI)\n",
    "# X3 <- moe_gene_R(X[1, idx, drop = FALSE], design[, idx], R[, idx], lambda, expected_logUMI)\n"
   ]
  },
  {
   "cell_type": "code",
   "execution_count": 111,
   "metadata": {},
   "outputs": [],
   "source": [
    "# X_glm <- glm_correct(X[1, idx], R[, idx], design[2:nrow(design), idx], 1, 'gaussian')"
   ]
  },
  {
   "cell_type": "code",
   "execution_count": 956,
   "metadata": {},
   "outputs": [
    {
     "data": {
      "text/html": [
       "<ol class=list-inline>\n",
       "\t<li>41.357924373051</li>\n",
       "\t<li>40.7751419821486</li>\n",
       "\t<li>42.2104971663533</li>\n",
       "\t<li>42.9670368896597</li>\n",
       "\t<li>46.7301262741454</li>\n",
       "\t<li>43.229147522671</li>\n",
       "</ol>\n"
      ],
      "text/latex": [
       "\\begin{enumerate*}\n",
       "\\item 41.357924373051\n",
       "\\item 40.7751419821486\n",
       "\\item 42.2104971663533\n",
       "\\item 42.9670368896597\n",
       "\\item 46.7301262741454\n",
       "\\item 43.229147522671\n",
       "\\end{enumerate*}\n"
      ],
      "text/markdown": [
       "1. 41.357924373051\n",
       "2. 40.7751419821486\n",
       "3. 42.2104971663533\n",
       "4. 42.9670368896597\n",
       "5. 46.7301262741454\n",
       "6. 43.229147522671\n",
       "\n",
       "\n"
      ],
      "text/plain": [
       "[1] 41.35792 40.77514 42.21050 42.96704 46.73013 43.22915"
      ]
     },
     "metadata": {},
     "output_type": "display_data"
    }
   ],
   "source": [
    "head(X_glm)"
   ]
  },
  {
   "cell_type": "code",
   "execution_count": 57,
   "metadata": {},
   "outputs": [],
   "source": [
    "## assumes that the last row of design is always log(nUMI)\n",
    "## if family is Poisson, X is raw nUMI\n",
    "## if family is Gaussian, X is log(1 + nUMI)\n",
    "glm_correct <- function(Xmat, R, design, lambda, family = 'gaussian') {\n",
    "    \n",
    "    pres <- Reduce(cbind, lapply(1:nrow(R), function (k) {\n",
    "        if (family == 'gaussian') {\n",
    "            x <- glmnet::glmnet(\n",
    "                t(design), log1p(Xmat), family = family, intercept = TRUE, #standardize = FALSE,\n",
    "                weights = R[k, ], alpha = 0, lambda = lambda\n",
    "            )\n",
    "        } else if (family == 'poisson') {\n",
    "            x <- glmnet::glmnet(\n",
    "                t(design), Xmat, family = family, intercept = TRUE, #standardize = FALSE,\n",
    "                weights = R[k, ], alpha = 0, lambda = lambda\n",
    "            )            \n",
    "        }\n",
    "        data.frame(c(x$a0[1], x$beta[, 1]))    \n",
    "    }))\n",
    "\n",
    "    pres <- data.table(t(pres))\n",
    "    print(head(pres))\n",
    "    expected_logUMI <- tcrossprod(R, matrix(design[nrow(design), ], nrow = 1)) / rowSums(R)\n",
    "    \n",
    "    mu <- exp(tcrossprod(cbind(1, t(design)), as.matrix(pres)))\n",
    "    expert_means <- exp(pres[, 1] + pres[, ncol(pres)] * expected_logUMI) %>% unlist %>% as.numeric\n",
    "    \n",
    "    resid <- sweep(-mu, 1, matrix(Xmat, nrow = 1), '+')\n",
    "    counts <- sweep(resid, 2, expert_means, '+')\n",
    "    counts <- rowSums(counts * t(R))\n",
    "    return(counts)\n",
    "}"
   ]
  },
  {
   "cell_type": "code",
   "execution_count": 115,
   "metadata": {},
   "outputs": [
    {
     "name": "stdout",
     "output_type": "stream",
     "text": [
      "          s0          V1          V2          V3        V4\n",
      "1: -3.605724  0.44030232 -0.11749132 -0.27322607 0.5836537\n",
      "2: -3.891016  0.35210349 -0.14429377 -0.21740044 0.6020986\n",
      "3: -4.354326  0.03334259  0.09421664 -0.12777924 0.3400948\n",
      "4: -4.724403  0.27364014  0.01031191 -0.28758889 0.6039223\n",
      "5: -3.830080  0.36568066 -0.14783705 -0.23003129 0.5978556\n",
      "6: -3.946686 -0.02958871  0.06291147 -0.04778492 0.2150507\n",
      "[1] 20886    50\n"
     ]
    }
   ],
   "source": [
    "X_glm <- glm_correct(exprs_raw['CD3E', ], R, design[2:nrow(design), ], 1, 'poisson')\n",
    "\n"
   ]
  },
  {
   "cell_type": "code",
   "execution_count": 116,
   "metadata": {},
   "outputs": [
    {
     "data": {
      "text/html": [
       "<dl>\n",
       "\t<dt>[[1]]</dt>\n",
       "\t\t<dd>1034136659121409280</dd>\n",
       "\t<dt>$bcells</dt>\n",
       "\t\t<dd>8411609097614641</dd>\n",
       "\t<dt>$dc</dt>\n",
       "\t\t<dd>5992830785176684544</dd>\n",
       "\t<dt>$mk</dt>\n",
       "\t\t<dd>94653404906319280</dd>\n",
       "\t<dt>$mono</dt>\n",
       "\t\t<dd>44602490085463088</dd>\n",
       "\t<dt>$nk</dt>\n",
       "\t\t<dd>2646374630772827</dd>\n",
       "\t<dt>$tcells</dt>\n",
       "\t\t<dd>17342783921553324</dd>\n",
       "</dl>\n"
      ],
      "text/latex": [
       "\\begin{description}\n",
       "\\item[{[[1]]}] 1034136659121409280\n",
       "\\item[\\$bcells] 8411609097614641\n",
       "\\item[\\$dc] 5992830785176684544\n",
       "\\item[\\$mk] 94653404906319280\n",
       "\\item[\\$mono] 44602490085463088\n",
       "\\item[\\$nk] 2646374630772827\n",
       "\\item[\\$tcells] 17342783921553324\n",
       "\\end{description}\n"
      ],
      "text/markdown": [
       "[[1]]\n",
       ":   1034136659121409280\n",
       "$bcells\n",
       ":   8411609097614641\n",
       "$dc\n",
       ":   5992830785176684544\n",
       "$mk\n",
       ":   94653404906319280\n",
       "$mono\n",
       ":   44602490085463088\n",
       "$nk\n",
       ":   2646374630772827\n",
       "$tcells\n",
       ":   17342783921553324\n",
       "\n",
       "\n"
      ],
      "text/plain": [
       "[[1]]\n",
       "[1] 1.034137e+18\n",
       "\n",
       "$bcells\n",
       "[1] 8.411609e+15\n",
       "\n",
       "$dc\n",
       "[1] 5.992831e+18\n",
       "\n",
       "$mk\n",
       "[1] 9.46534e+16\n",
       "\n",
       "$mono\n",
       "[1] 4.460249e+16\n",
       "\n",
       "$nk\n",
       "[1] 2.646375e+15\n",
       "\n",
       "$tcells\n",
       "[1] 1.734278e+16\n"
      ]
     },
     "metadata": {},
     "output_type": "display_data"
    }
   ],
   "source": [
    "# split(counts, meta_data$cell_type) %>% lapply(mean)\n",
    "split(X_glm, meta_data$cell_type) %>% lapply(mean)"
   ]
  },
  {
   "cell_type": "markdown",
   "metadata": {},
   "source": [
    "## GLMNET is weird\n",
    "\n",
    "    1) they re-weigh samples so that sum of weights equals 1\n",
    "    2) multiply lambda by N \n",
    "    \n",
    "    \n",
    "Is it better for correcting PCs? Genes? Let's compare family=\"mgaussian\" to our moe estimate\n",
    "Is it as fast as our implementation? It may be even faster!! Even when searching over multiple values of Lambda!!\n",
    "\n",
    "    I think mgaussian actually refers to an MVN, accounting for covariance structure of response variables. Not necessary for us... \n",
    "\n",
    "\n"
   ]
  },
  {
   "cell_type": "code",
   "execution_count": 1019,
   "metadata": {},
   "outputs": [],
   "source": [
    "Y <- t(log(1 + as.matrix(exprs_raw)))"
   ]
  },
  {
   "cell_type": "code",
   "execution_count": 1033,
   "metadata": {},
   "outputs": [
    {
     "data": {
      "text/plain": [
       "   user  system elapsed \n",
       "  0.009   0.000   0.009 "
      ]
     },
     "metadata": {},
     "output_type": "display_data"
    }
   ],
   "source": [
    "# k <- 1\n",
    "# x <- glmnet::glmnet(\n",
    "#     t(design[2:5, ]), X[1, ], family = 'gaussian', intercept = TRUE, standardize = FALSE,\n",
    "#     weights = R[k, ], alpha = 0\n",
    "# )\n",
    "\n",
    "system.time({\n",
    "    x <- glmnet::glmnet(\n",
    "        t(design[2:5, ]), t(X), family = 'mgaussian', intercept = TRUE, standardize = FALSE, standardize.response=FALSE,\n",
    "        weights = R[k, ], alpha = 0, lambda=1\n",
    "    )\n",
    "    \n",
    "})\n",
    "\n"
   ]
  },
  {
   "cell_type": "code",
   "execution_count": 1032,
   "metadata": {},
   "outputs": [],
   "source": [
    "x1 <- glmnet::glmnet(\n",
    "    t(design[2:5, ]), X[1, ], family = 'gaussian', intercept = TRUE, standardize = FALSE, standardize.response=FALSE,\n",
    "    weights = R[k, ], alpha = 0, lambda=1\n",
    ")\n",
    "\n",
    "x2 <- glmnet::glmnet(\n",
    "    t(design[2:5, ]), X[2, ], family = 'gaussian', intercept = TRUE, standardize = FALSE, standardize.response=FALSE,\n",
    "    weights = R[k, ], alpha = 0, lambda=1\n",
    ")\n"
   ]
  },
  {
   "cell_type": "markdown",
   "metadata": {},
   "source": [
    "## NEXT STEPS"
   ]
  },
  {
   "cell_type": "markdown",
   "metadata": {},
   "source": [
    "While glmnet is very fast, it doesn't allow us to do an MVN with diagonal covariance. Thus, we'll have to loop through each gene and it will be very slow. Instead, let's pull the code from glmnet that works so fast for family=gaussian. Then we can adapt it to be fast for multiple genes. \n",
    "\n",
    "\n",
    "    1) change my code to reproduce results from glmnet (re-weight observations to N) \n",
    "    2) if needed, adapt their fortran mgaussian code to work on a diagonal covariance matrix"
   ]
  },
  {
   "cell_type": "code",
   "execution_count": null,
   "metadata": {},
   "outputs": [],
   "source": []
  },
  {
   "cell_type": "code",
   "execution_count": null,
   "metadata": {},
   "outputs": [],
   "source": []
  },
  {
   "cell_type": "markdown",
   "metadata": {},
   "source": [
    "# Poisson for protein counts? "
   ]
  },
  {
   "cell_type": "code",
   "execution_count": null,
   "metadata": {},
   "outputs": [],
   "source": []
  },
  {
   "cell_type": "raw",
   "metadata": {},
   "source": [
    "\n",
    "\n",
    "\n",
    "\n",
    "\n",
    "\n",
    "\n",
    "\n",
    "\n",
    "\n",
    "\n",
    "\n",
    "\n",
    "\n",
    "\n",
    "\n",
    "\n",
    "\n",
    "\n",
    "\n",
    "\n",
    "\n",
    "\n"
   ]
  }
 ],
 "metadata": {
  "kernelspec": {
   "display_name": "R",
   "language": "R",
   "name": "ir"
  },
  "language_info": {
   "codemirror_mode": "r",
   "file_extension": ".r",
   "mimetype": "text/x-r-source",
   "name": "R",
   "pygments_lexer": "r",
   "version": "3.5.1"
  },
  "toc-autonumbering": true
 },
 "nbformat": 4,
 "nbformat_minor": 2
}
