{
 "cells": [
  {
   "cell_type": "code",
   "execution_count": 3,
   "metadata": {},
   "outputs": [],
   "source": [
    "library(harmony)\n",
    "library(tidyverse)\n",
    "library(data.table)\n",
    "source('utils.R')\n",
    "source('melody.R')"
   ]
  },
  {
   "cell_type": "code",
   "execution_count": 2,
   "metadata": {},
   "outputs": [],
   "source": [
    "# devtools::install_git('/PHShome/ik936/tmp/harmony')"
   ]
  },
  {
   "cell_type": "markdown",
   "metadata": {},
   "source": [
    "# Correction function\n",
    "\n",
    "\n",
    "    variable read depth\n",
    "    batch effect"
   ]
  },
  {
   "cell_type": "code",
   "execution_count": 3,
   "metadata": {},
   "outputs": [],
   "source": [
    "# library(SingleCellExperiment)\n",
    "# library(DropletUtils)"
   ]
  },
  {
   "cell_type": "markdown",
   "metadata": {},
   "source": [
    "## Get cell lines data (small)"
   ]
  },
  {
   "cell_type": "code",
   "execution_count": 4,
   "metadata": {},
   "outputs": [],
   "source": [
    "exprs_raw <- Reduce(cbind, list(\n",
    "    read10x('/data/srlab/ik936/Foxxy/data/jurkat/293t/hg19/', 't293'),\n",
    "    read10x('/data/srlab/ik936/Foxxy/data/jurkat/jurkat/hg19/', 'jurkat'),\n",
    "    read10x('/data/srlab/ik936/Foxxy/data/jurkat/fifty_fifty/hg19/', 'half')\n",
    "))\n"
   ]
  },
  {
   "cell_type": "code",
   "execution_count": 5,
   "metadata": {},
   "outputs": [
    {
     "data": {
      "text/html": [
       "<table>\n",
       "<caption>A data.table: 6 × 4</caption>\n",
       "<thead>\n",
       "\t<tr><th scope=col>cell_id</th><th scope=col>nUMI</th><th scope=col>nGene</th><th scope=col>percent_mito</th></tr>\n",
       "\t<tr><th scope=col>&lt;chr&gt;</th><th scope=col>&lt;dbl&gt;</th><th scope=col>&lt;int&gt;</th><th scope=col>&lt;dbl&gt;</th></tr>\n",
       "</thead>\n",
       "<tbody>\n",
       "\t<tr><td>AAACATACACTGGT_t293</td><td>19337</td><td>4315</td><td>0.02590888</td></tr>\n",
       "\t<tr><td>AAACATACAGACTC_t293</td><td> 8786</td><td>2392</td><td>0.02162531</td></tr>\n",
       "\t<tr><td>AAACATTGACCAAC_t293</td><td>24636</td><td>4317</td><td>0.03718136</td></tr>\n",
       "\t<tr><td>AAACATTGAGGCGA_t293</td><td>16030</td><td>3720</td><td>0.02769807</td></tr>\n",
       "\t<tr><td>AAACATTGGGACTT_t293</td><td>27341</td><td>4198</td><td>0.03456348</td></tr>\n",
       "\t<tr><td>AAACCGTGATTTCC_t293</td><td>24111</td><td>4248</td><td>0.02679275</td></tr>\n",
       "</tbody>\n",
       "</table>\n"
      ],
      "text/latex": [
       "A data.table: 6 × 4\n",
       "\\begin{tabular}{r|llll}\n",
       " cell\\_id & nUMI & nGene & percent\\_mito\\\\\n",
       " <chr> & <dbl> & <int> & <dbl>\\\\\n",
       "\\hline\n",
       "\t AAACATACACTGGT\\_t293 & 19337 & 4315 & 0.02590888\\\\\n",
       "\t AAACATACAGACTC\\_t293 &  8786 & 2392 & 0.02162531\\\\\n",
       "\t AAACATTGACCAAC\\_t293 & 24636 & 4317 & 0.03718136\\\\\n",
       "\t AAACATTGAGGCGA\\_t293 & 16030 & 3720 & 0.02769807\\\\\n",
       "\t AAACATTGGGACTT\\_t293 & 27341 & 4198 & 0.03456348\\\\\n",
       "\t AAACCGTGATTTCC\\_t293 & 24111 & 4248 & 0.02679275\\\\\n",
       "\\end{tabular}\n"
      ],
      "text/markdown": [
       "\n",
       "A data.table: 6 × 4\n",
       "\n",
       "| cell_id &lt;chr&gt; | nUMI &lt;dbl&gt; | nGene &lt;int&gt; | percent_mito &lt;dbl&gt; |\n",
       "|---|---|---|---|\n",
       "| AAACATACACTGGT_t293 | 19337 | 4315 | 0.02590888 |\n",
       "| AAACATACAGACTC_t293 |  8786 | 2392 | 0.02162531 |\n",
       "| AAACATTGACCAAC_t293 | 24636 | 4317 | 0.03718136 |\n",
       "| AAACATTGAGGCGA_t293 | 16030 | 3720 | 0.02769807 |\n",
       "| AAACATTGGGACTT_t293 | 27341 | 4198 | 0.03456348 |\n",
       "| AAACCGTGATTTCC_t293 | 24111 | 4248 | 0.02679275 |\n",
       "\n"
      ],
      "text/plain": [
       "  cell_id             nUMI  nGene percent_mito\n",
       "1 AAACATACACTGGT_t293 19337 4315  0.02590888  \n",
       "2 AAACATACAGACTC_t293  8786 2392  0.02162531  \n",
       "3 AAACATTGACCAAC_t293 24636 4317  0.03718136  \n",
       "4 AAACATTGAGGCGA_t293 16030 3720  0.02769807  \n",
       "5 AAACATTGGGACTT_t293 27341 4198  0.03456348  \n",
       "6 AAACCGTGATTTCC_t293 24111 4248  0.02679275  "
      ]
     },
     "metadata": {},
     "output_type": "display_data"
    }
   ],
   "source": [
    "meta_raw <- data.table(cell_id = colnames(exprs_raw))\n",
    "meta_raw$nUMI <- Matrix::colSums(exprs_raw)\n",
    "meta_raw$nGene <- Matrix::colSums(exprs_raw > 0)\n",
    "mito_genes <- grep(\"^MT-\", rownames(exprs_raw), value = TRUE, ignore.case = TRUE)\n",
    "meta_raw$percent_mito <- Matrix::colSums(exprs_raw[mito_genes, ])/Matrix::colSums(exprs_raw)\n",
    "\n",
    "head(meta_raw)"
   ]
  },
  {
   "cell_type": "code",
   "execution_count": 6,
   "metadata": {},
   "outputs": [],
   "source": [
    "m_types <- fread('/data/srlab/ik936//harmony_paper/jurkat/data/metadata.csv') %>% \n",
    "    dplyr::mutate(cell_id = gsub('(.*)_(.*)', '\\\\2_\\\\1', cell_id)) %>% \n",
    "    dplyr::select(cell_id, cell_type, dataset)"
   ]
  },
  {
   "cell_type": "code",
   "execution_count": 7,
   "metadata": {},
   "outputs": [
    {
     "name": "stderr",
     "output_type": "stream",
     "text": [
      "Joining, by = \"cell_id\"\n"
     ]
    },
    {
     "data": {
      "text/html": [
       "<table>\n",
       "<caption>A data.frame: 6 × 6</caption>\n",
       "<thead>\n",
       "\t<tr><th scope=col>cell_id</th><th scope=col>nUMI</th><th scope=col>nGene</th><th scope=col>percent_mito</th><th scope=col>cell_type</th><th scope=col>dataset</th></tr>\n",
       "\t<tr><th scope=col>&lt;chr&gt;</th><th scope=col>&lt;dbl&gt;</th><th scope=col>&lt;int&gt;</th><th scope=col>&lt;dbl&gt;</th><th scope=col>&lt;chr&gt;</th><th scope=col>&lt;chr&gt;</th></tr>\n",
       "</thead>\n",
       "<tbody>\n",
       "\t<tr><td>AAACATACACTGGT_t293</td><td>19337</td><td>4315</td><td>0.02590888</td><td>t293</td><td>t293</td></tr>\n",
       "\t<tr><td>AAACATACAGACTC_t293</td><td> 8786</td><td>2392</td><td>0.02162531</td><td>t293</td><td>t293</td></tr>\n",
       "\t<tr><td>AAACATTGACCAAC_t293</td><td>24636</td><td>4317</td><td>0.03718136</td><td>t293</td><td>t293</td></tr>\n",
       "\t<tr><td>AAACATTGAGGCGA_t293</td><td>16030</td><td>3720</td><td>0.02769807</td><td>t293</td><td>t293</td></tr>\n",
       "\t<tr><td>AAACATTGGGACTT_t293</td><td>27341</td><td>4198</td><td>0.03456348</td><td>t293</td><td>t293</td></tr>\n",
       "\t<tr><td>AAACCGTGATTTCC_t293</td><td>24111</td><td>4248</td><td>0.02679275</td><td>t293</td><td>t293</td></tr>\n",
       "</tbody>\n",
       "</table>\n"
      ],
      "text/latex": [
       "A data.frame: 6 × 6\n",
       "\\begin{tabular}{r|llllll}\n",
       " cell\\_id & nUMI & nGene & percent\\_mito & cell\\_type & dataset\\\\\n",
       " <chr> & <dbl> & <int> & <dbl> & <chr> & <chr>\\\\\n",
       "\\hline\n",
       "\t AAACATACACTGGT\\_t293 & 19337 & 4315 & 0.02590888 & t293 & t293\\\\\n",
       "\t AAACATACAGACTC\\_t293 &  8786 & 2392 & 0.02162531 & t293 & t293\\\\\n",
       "\t AAACATTGACCAAC\\_t293 & 24636 & 4317 & 0.03718136 & t293 & t293\\\\\n",
       "\t AAACATTGAGGCGA\\_t293 & 16030 & 3720 & 0.02769807 & t293 & t293\\\\\n",
       "\t AAACATTGGGACTT\\_t293 & 27341 & 4198 & 0.03456348 & t293 & t293\\\\\n",
       "\t AAACCGTGATTTCC\\_t293 & 24111 & 4248 & 0.02679275 & t293 & t293\\\\\n",
       "\\end{tabular}\n"
      ],
      "text/markdown": [
       "\n",
       "A data.frame: 6 × 6\n",
       "\n",
       "| cell_id &lt;chr&gt; | nUMI &lt;dbl&gt; | nGene &lt;int&gt; | percent_mito &lt;dbl&gt; | cell_type &lt;chr&gt; | dataset &lt;chr&gt; |\n",
       "|---|---|---|---|---|---|\n",
       "| AAACATACACTGGT_t293 | 19337 | 4315 | 0.02590888 | t293 | t293 |\n",
       "| AAACATACAGACTC_t293 |  8786 | 2392 | 0.02162531 | t293 | t293 |\n",
       "| AAACATTGACCAAC_t293 | 24636 | 4317 | 0.03718136 | t293 | t293 |\n",
       "| AAACATTGAGGCGA_t293 | 16030 | 3720 | 0.02769807 | t293 | t293 |\n",
       "| AAACATTGGGACTT_t293 | 27341 | 4198 | 0.03456348 | t293 | t293 |\n",
       "| AAACCGTGATTTCC_t293 | 24111 | 4248 | 0.02679275 | t293 | t293 |\n",
       "\n"
      ],
      "text/plain": [
       "  cell_id             nUMI  nGene percent_mito cell_type dataset\n",
       "1 AAACATACACTGGT_t293 19337 4315  0.02590888   t293      t293   \n",
       "2 AAACATACAGACTC_t293  8786 2392  0.02162531   t293      t293   \n",
       "3 AAACATTGACCAAC_t293 24636 4317  0.03718136   t293      t293   \n",
       "4 AAACATTGAGGCGA_t293 16030 3720  0.02769807   t293      t293   \n",
       "5 AAACATTGGGACTT_t293 27341 4198  0.03456348   t293      t293   \n",
       "6 AAACCGTGATTTCC_t293 24111 4248  0.02679275   t293      t293   "
      ]
     },
     "metadata": {},
     "output_type": "display_data"
    }
   ],
   "source": [
    "meta_raw %>% \n",
    "    dplyr::inner_join(m_types) %>% \n",
    "    head"
   ]
  },
  {
   "cell_type": "code",
   "execution_count": 8,
   "metadata": {},
   "outputs": [
    {
     "name": "stderr",
     "output_type": "stream",
     "text": [
      "Joining, by = \"cell_id\"\n"
     ]
    }
   ],
   "source": [
    "meta_data <- meta_raw %>% \n",
    "    dplyr::inner_join(m_types) %>% \n",
    "    dplyr::sample_n(1000L, FALSE)\n",
    "meta_data$depth <- log1p(meta_data$nUMI)\n",
    "exprs_raw <- exprs_raw[, meta_data$cell_id]\n"
   ]
  },
  {
   "cell_type": "code",
   "execution_count": 9,
   "metadata": {},
   "outputs": [
    {
     "data": {
      "text/plain": [
       "         dataset\n",
       "cell_type half jurkat t293\n",
       "   jurkat  184    355    0\n",
       "   t293    164      0  297"
      ]
     },
     "metadata": {},
     "output_type": "display_data"
    }
   ],
   "source": [
    "with(meta_data, table(cell_type, dataset))"
   ]
  },
  {
   "cell_type": "markdown",
   "metadata": {},
   "source": [
    "## Make design matrix"
   ]
  },
  {
   "cell_type": "code",
   "execution_count": 10,
   "metadata": {},
   "outputs": [
    {
     "data": {
      "text/html": [
       "<table>\n",
       "<caption>A data.frame: 6 × 7</caption>\n",
       "<thead>\n",
       "\t<tr><th scope=col>cell_id</th><th scope=col>nUMI</th><th scope=col>nGene</th><th scope=col>percent_mito</th><th scope=col>cell_type</th><th scope=col>dataset</th><th scope=col>depth</th></tr>\n",
       "\t<tr><th scope=col>&lt;chr&gt;</th><th scope=col>&lt;dbl&gt;</th><th scope=col>&lt;int&gt;</th><th scope=col>&lt;dbl&gt;</th><th scope=col>&lt;chr&gt;</th><th scope=col>&lt;chr&gt;</th><th scope=col>&lt;dbl&gt;</th></tr>\n",
       "</thead>\n",
       "<tbody>\n",
       "\t<tr><td>CACAGCCTAGAACA_t293  </td><td>15325</td><td>3355</td><td>0.03119086</td><td>t293  </td><td>t293  </td><td>9.637306</td></tr>\n",
       "\t<tr><td>GACTGATGTGCAAC_t293  </td><td>12045</td><td>3093</td><td>0.02141968</td><td>t293  </td><td>t293  </td><td>9.396488</td></tr>\n",
       "\t<tr><td>CCTACCGATAGCCA_jurkat</td><td>17325</td><td>3300</td><td>0.03313131</td><td>jurkat</td><td>jurkat</td><td>9.759964</td></tr>\n",
       "\t<tr><td>TGACCAGATTTCTG_t293  </td><td> 9667</td><td>2466</td><td>0.02761974</td><td>t293  </td><td>t293  </td><td>9.176577</td></tr>\n",
       "\t<tr><td>AGTATCCTAGGTTC_t293  </td><td> 9567</td><td>2999</td><td>0.03700220</td><td>t293  </td><td>t293  </td><td>9.166179</td></tr>\n",
       "\t<tr><td>CGGGCATGGGAAGC_half  </td><td>11853</td><td>3163</td><td>0.01932000</td><td>jurkat</td><td>half  </td><td>9.380421</td></tr>\n",
       "</tbody>\n",
       "</table>\n"
      ],
      "text/latex": [
       "A data.frame: 6 × 7\n",
       "\\begin{tabular}{r|lllllll}\n",
       " cell\\_id & nUMI & nGene & percent\\_mito & cell\\_type & dataset & depth\\\\\n",
       " <chr> & <dbl> & <int> & <dbl> & <chr> & <chr> & <dbl>\\\\\n",
       "\\hline\n",
       "\t CACAGCCTAGAACA\\_t293   & 15325 & 3355 & 0.03119086 & t293   & t293   & 9.637306\\\\\n",
       "\t GACTGATGTGCAAC\\_t293   & 12045 & 3093 & 0.02141968 & t293   & t293   & 9.396488\\\\\n",
       "\t CCTACCGATAGCCA\\_jurkat & 17325 & 3300 & 0.03313131 & jurkat & jurkat & 9.759964\\\\\n",
       "\t TGACCAGATTTCTG\\_t293   &  9667 & 2466 & 0.02761974 & t293   & t293   & 9.176577\\\\\n",
       "\t AGTATCCTAGGTTC\\_t293   &  9567 & 2999 & 0.03700220 & t293   & t293   & 9.166179\\\\\n",
       "\t CGGGCATGGGAAGC\\_half   & 11853 & 3163 & 0.01932000 & jurkat & half   & 9.380421\\\\\n",
       "\\end{tabular}\n"
      ],
      "text/markdown": [
       "\n",
       "A data.frame: 6 × 7\n",
       "\n",
       "| cell_id &lt;chr&gt; | nUMI &lt;dbl&gt; | nGene &lt;int&gt; | percent_mito &lt;dbl&gt; | cell_type &lt;chr&gt; | dataset &lt;chr&gt; | depth &lt;dbl&gt; |\n",
       "|---|---|---|---|---|---|---|\n",
       "| CACAGCCTAGAACA_t293   | 15325 | 3355 | 0.03119086 | t293   | t293   | 9.637306 |\n",
       "| GACTGATGTGCAAC_t293   | 12045 | 3093 | 0.02141968 | t293   | t293   | 9.396488 |\n",
       "| CCTACCGATAGCCA_jurkat | 17325 | 3300 | 0.03313131 | jurkat | jurkat | 9.759964 |\n",
       "| TGACCAGATTTCTG_t293   |  9667 | 2466 | 0.02761974 | t293   | t293   | 9.176577 |\n",
       "| AGTATCCTAGGTTC_t293   |  9567 | 2999 | 0.03700220 | t293   | t293   | 9.166179 |\n",
       "| CGGGCATGGGAAGC_half   | 11853 | 3163 | 0.01932000 | jurkat | half   | 9.380421 |\n",
       "\n"
      ],
      "text/plain": [
       "  cell_id               nUMI  nGene percent_mito cell_type dataset depth   \n",
       "1 CACAGCCTAGAACA_t293   15325 3355  0.03119086   t293      t293    9.637306\n",
       "2 GACTGATGTGCAAC_t293   12045 3093  0.02141968   t293      t293    9.396488\n",
       "3 CCTACCGATAGCCA_jurkat 17325 3300  0.03313131   jurkat    jurkat  9.759964\n",
       "4 TGACCAGATTTCTG_t293    9667 2466  0.02761974   t293      t293    9.176577\n",
       "5 AGTATCCTAGGTTC_t293    9567 2999  0.03700220   t293      t293    9.166179\n",
       "6 CGGGCATGGGAAGC_half   11853 3163  0.01932000   jurkat    half    9.380421"
      ]
     },
     "metadata": {},
     "output_type": "display_data"
    }
   ],
   "source": [
    "head(meta_data)"
   ]
  },
  {
   "cell_type": "code",
   "execution_count": 99,
   "metadata": {},
   "outputs": [],
   "source": [
    "design <- model.matrix.full(c('depth', 'dataset'), meta_data)\n",
    "head(design)\n",
    "\n",
    "sourceCpp('utils.cpp')\n",
    "\n",
    "genes_use <- which(Matrix::rowSums(exprs_raw != 0) >= 100)\n",
    "Xd <- as.matrix(exprs_raw[genes_use, ])\n",
    "R <- t(model.matrix(~ 0 + cell_type, meta_data))\n",
    "Phi <- t(design)"
   ]
  },
  {
   "cell_type": "markdown",
   "metadata": {},
   "source": [
    "## TEST1: lambda=Inf means nothing should be changed"
   ]
  },
  {
   "cell_type": "code",
   "execution_count": 100,
   "metadata": {},
   "outputs": [],
   "source": [
    "## B x K\n",
    "x <- moe_gene(Xd, Phi, R, 1e6, c(0L, 1L))\n",
    "row.names(x) <- row.names(Xd)\n",
    "colnames(x) <- colnames(Xd)"
   ]
  },
  {
   "cell_type": "code",
   "execution_count": 101,
   "metadata": {},
   "outputs": [
    {
     "data": {
      "text/html": [
       "442.527629112471"
      ],
      "text/latex": [
       "442.527629112471"
      ],
      "text/markdown": [
       "442.527629112471"
      ],
      "text/plain": [
       "[1] 443"
      ]
     },
     "metadata": {},
     "output_type": "display_data"
    }
   ],
   "source": [
    "max(abs(x - Xd))"
   ]
  },
  {
   "cell_type": "markdown",
   "metadata": {},
   "source": [
    "## TEST2: Correction seems to make things much more bimodal \n",
    "\n",
    "    Is it weird that CD3E and CD3D are so bimodal? "
   ]
  },
  {
   "cell_type": "code",
   "execution_count": 229,
   "metadata": {},
   "outputs": [],
   "source": [
    "sourceCpp('utils.cpp')"
   ]
  },
  {
   "cell_type": "code",
   "execution_count": 230,
   "metadata": {},
   "outputs": [],
   "source": [
    "## B x K\n",
    "x <- moe_gene(Xd, Phi, R, .001, c(0L, 1L))\n",
    "row.names(x) <- row.names(Xd)\n",
    "colnames(x) <- colnames(Xd)"
   ]
  },
  {
   "cell_type": "code",
   "execution_count": 231,
   "metadata": {},
   "outputs": [
    {
     "data": {
      "text/html": [
       "0.591185316989587"
      ],
      "text/latex": [
       "0.591185316989587"
      ],
      "text/markdown": [
       "0.591185316989587"
      ],
      "text/plain": [
       "[1] 0.59"
      ]
     },
     "metadata": {},
     "output_type": "display_data"
    },
    {
     "data": {
      "text/html": [
       "0.615933834190062"
      ],
      "text/latex": [
       "0.615933834190062"
      ],
      "text/markdown": [
       "0.615933834190062"
      ],
      "text/plain": [
       "[1] 0.62"
      ]
     },
     "metadata": {},
     "output_type": "display_data"
    }
   ],
   "source": [
    "sum(Xd < 1e-8) / prod(dim(Xd))\n",
    "sum(x < 1e-8) / prod(dim(x))"
   ]
  },
  {
   "cell_type": "code",
   "execution_count": 238,
   "metadata": {},
   "outputs": [
    {
     "data": {
      "image/png": "[encoded data removed]",
      "text/plain": [
       "plot without title"
      ]
     },
     "metadata": {},
     "output_type": "display_data"
    }
   ],
   "source": [
    "fig.size(3, 5)\n",
    "data.table(orig = Xd['CD3D', ], corr = x['CD3D', ]) %>% \n",
    "    ggplot(aes(orig, corr)) + \n",
    "        geom_point(shape = '.') + \n",
    "        geom_abline(slope = 1, intercept = 0)\n",
    "\n"
   ]
  },
  {
   "cell_type": "code",
   "execution_count": 241,
   "metadata": {},
   "outputs": [
    {
     "data": {
      "image/png": "[encoded data removed]",
      "text/plain": [
       "Plot with title “Histogram of Xd[\"CD3D\", ]”"
      ]
     },
     "metadata": {},
     "output_type": "display_data"
    }
   ],
   "source": [
    "# hist(x['CD3D', ])\n",
    "hist(Xd['CD3D', ])\n"
   ]
  },
  {
   "cell_type": "markdown",
   "metadata": {},
   "source": [
    "# DEBUG: model params "
   ]
  },
  {
   "cell_type": "code",
   "execution_count": 118,
   "metadata": {},
   "outputs": [],
   "source": [
    "sourceCpp('utils.cpp')"
   ]
  },
  {
   "cell_type": "code",
   "execution_count": 200,
   "metadata": {},
   "outputs": [
    {
     "data": {
      "text/html": [
       "<table>\n",
       "<caption>A matrix: 5 × 2 of type dbl</caption>\n",
       "<thead>\n",
       "\t<tr><th scope=col>init</th><th scope=col></th></tr>\n",
       "</thead>\n",
       "<tbody>\n",
       "\t<tr><td> 0.0332</td><td>-0.6608</td></tr>\n",
       "\t<tr><td>-0.0030</td><td> 0.0863</td></tr>\n",
       "\t<tr><td> 0.0025</td><td> 0.0061</td></tr>\n",
       "\t<tr><td>-0.0025</td><td> 0.0000</td></tr>\n",
       "\t<tr><td> 0.0000</td><td>-0.0061</td></tr>\n",
       "</tbody>\n",
       "</table>\n"
      ],
      "text/latex": [
       "A matrix: 5 × 2 of type dbl\n",
       "\\begin{tabular}{ll}\n",
       " init & \\\\\n",
       "\\hline\n",
       "\t  0.0332 & -0.6608\\\\\n",
       "\t -0.0030 &  0.0863\\\\\n",
       "\t  0.0025 &  0.0061\\\\\n",
       "\t -0.0025 &  0.0000\\\\\n",
       "\t  0.0000 & -0.0061\\\\\n",
       "\\end{tabular}\n"
      ],
      "text/markdown": [
       "\n",
       "A matrix: 5 × 2 of type dbl\n",
       "\n",
       "| init | <!----> |\n",
       "|---|---|\n",
       "|  0.0332 | -0.6608 |\n",
       "| -0.0030 |  0.0863 |\n",
       "|  0.0025 |  0.0061 |\n",
       "| -0.0025 |  0.0000 |\n",
       "|  0.0000 | -0.0061 |\n",
       "\n"
      ],
      "text/plain": [
       "     init           \n",
       "[1,]  0.0332 -0.6608\n",
       "[2,] -0.0030  0.0863\n",
       "[3,]  0.0025  0.0061\n",
       "[4,] -0.0025  0.0000\n",
       "[5,]  0.0000 -0.0061"
      ]
     },
     "metadata": {},
     "output_type": "display_data"
    }
   ],
   "source": [
    "## B x K\n",
    "# x <- foo(Xd[1, , drop = FALSE], Phi, R, 1, c(0L, 1L))\n",
    "x <- foo(Xd[1, , drop = FALSE], Phi, R, .01, c(0L))\n",
    "Reduce(cbind, lapply(x, function(y) y[, 1]))"
   ]
  },
  {
   "cell_type": "code",
   "execution_count": 203,
   "metadata": {},
   "outputs": [],
   "source": [
    "# ?glmnet"
   ]
  },
  {
   "cell_type": "code",
   "execution_count": 199,
   "metadata": {},
   "outputs": [
    {
     "data": {
      "text/html": [
       "<table>\n",
       "<caption>A data.frame: 5 × 2</caption>\n",
       "<thead>\n",
       "\t<tr><th></th><th scope=col>c.x.a0.1...x.beta...1..</th><th scope=col>c.x.a0.1...x.beta...1..</th></tr>\n",
       "\t<tr><th></th><th scope=col>&lt;dbl&gt;</th><th scope=col>&lt;dbl&gt;</th></tr>\n",
       "</thead>\n",
       "<tbody>\n",
       "\t<tr><th scope=row>s0</th><td> 0.0293</td><td>-0.6393</td></tr>\n",
       "\t<tr><th scope=row>depth</th><td>-0.0026</td><td> 0.0837</td></tr>\n",
       "\t<tr><th scope=row>dataset1</th><td> 0.0024</td><td> 0.0094</td></tr>\n",
       "\t<tr><th scope=row>dataset2</th><td>-0.0023</td><td> 0.0000</td></tr>\n",
       "\t<tr><th scope=row>dataset3</th><td> 0.0000</td><td>-0.0030</td></tr>\n",
       "</tbody>\n",
       "</table>\n"
      ],
      "text/latex": [
       "A data.frame: 5 × 2\n",
       "\\begin{tabular}{r|ll}\n",
       "  & c.x.a0.1...x.beta...1.. & c.x.a0.1...x.beta...1..\\\\\n",
       "  & <dbl> & <dbl>\\\\\n",
       "\\hline\n",
       "\ts0 &  0.0293 & -0.6393\\\\\n",
       "\tdepth & -0.0026 &  0.0837\\\\\n",
       "\tdataset1 &  0.0024 &  0.0094\\\\\n",
       "\tdataset2 & -0.0023 &  0.0000\\\\\n",
       "\tdataset3 &  0.0000 & -0.0030\\\\\n",
       "\\end{tabular}\n"
      ],
      "text/markdown": [
       "\n",
       "A data.frame: 5 × 2\n",
       "\n",
       "| <!--/--> | c.x.a0.1...x.beta...1.. &lt;dbl&gt; | c.x.a0.1...x.beta...1.. &lt;dbl&gt; |\n",
       "|---|---|---|\n",
       "| s0 |  0.0293 | -0.6393 |\n",
       "| depth | -0.0026 |  0.0837 |\n",
       "| dataset1 |  0.0024 |  0.0094 |\n",
       "| dataset2 | -0.0023 |  0.0000 |\n",
       "| dataset3 |  0.0000 | -0.0030 |\n",
       "\n"
      ],
      "text/plain": [
       "         c.x.a0.1...x.beta...1.. c.x.a0.1...x.beta...1..\n",
       "s0        0.0293                 -0.6393                \n",
       "depth    -0.0026                  0.0837                \n",
       "dataset1  0.0024                  0.0094                \n",
       "dataset2 -0.0023                  0.0000                \n",
       "dataset3  0.0000                 -0.0030                "
      ]
     },
     "metadata": {},
     "output_type": "display_data"
    }
   ],
   "source": [
    "Reduce(cbind, lapply(1:2, function(k) {\n",
    "    x <- glmnet::glmnet(t(Phi)[, 2:5], \n",
    "                   as.numeric(log1p(Xd[1, ])), \n",
    "                   family = 'gaussian', \n",
    "                   intercept = TRUE, \n",
    "                   weights = R[k, ], alpha = 0, lambda = .01)\n",
    "    \n",
    "    data.frame(c(x$a0[1], x$beta[, 1]))\n",
    "}))\n"
   ]
  },
  {
   "cell_type": "markdown",
   "metadata": {},
   "source": [
    "## Only depth"
   ]
  },
  {
   "cell_type": "code",
   "execution_count": 251,
   "metadata": {},
   "outputs": [
    {
     "data": {
      "text/html": [
       "<table>\n",
       "<caption>A matrix: 6 × 2 of type dbl</caption>\n",
       "<thead>\n",
       "\t<tr><th scope=col>Intercept</th><th scope=col>depth</th></tr>\n",
       "</thead>\n",
       "<tbody>\n",
       "\t<tr><td>1</td><td>9.6</td></tr>\n",
       "\t<tr><td>1</td><td>9.4</td></tr>\n",
       "\t<tr><td>1</td><td>9.8</td></tr>\n",
       "\t<tr><td>1</td><td>9.2</td></tr>\n",
       "\t<tr><td>1</td><td>9.2</td></tr>\n",
       "\t<tr><td>1</td><td>9.4</td></tr>\n",
       "</tbody>\n",
       "</table>\n"
      ],
      "text/latex": [
       "A matrix: 6 × 2 of type dbl\n",
       "\\begin{tabular}{r|ll}\n",
       " Intercept & depth\\\\\n",
       "\\hline\n",
       "\t 1 & 9.6\\\\\n",
       "\t 1 & 9.4\\\\\n",
       "\t 1 & 9.8\\\\\n",
       "\t 1 & 9.2\\\\\n",
       "\t 1 & 9.2\\\\\n",
       "\t 1 & 9.4\\\\\n",
       "\\end{tabular}\n"
      ],
      "text/markdown": [
       "\n",
       "A matrix: 6 × 2 of type dbl\n",
       "\n",
       "| Intercept | depth |\n",
       "|---|---|\n",
       "| 1 | 9.6 |\n",
       "| 1 | 9.4 |\n",
       "| 1 | 9.8 |\n",
       "| 1 | 9.2 |\n",
       "| 1 | 9.2 |\n",
       "| 1 | 9.4 |\n",
       "\n"
      ],
      "text/plain": [
       "  Intercept depth\n",
       "1 1         9.6  \n",
       "2 1         9.4  \n",
       "3 1         9.8  \n",
       "4 1         9.2  \n",
       "5 1         9.2  \n",
       "6 1         9.4  "
      ]
     },
     "metadata": {},
     "output_type": "display_data"
    }
   ],
   "source": [
    "design <- model.matrix.full(c('depth'), meta_data)\n",
    "head(design)\n",
    "\n",
    "# sourceCpp('utils.cpp')\n",
    "\n",
    "genes_use <- which(Matrix::rowSums(exprs_raw != 0) >= 100)\n",
    "Xd <- as.matrix(exprs_raw[genes_use, ])\n",
    "R <- t(model.matrix(~ 0 + cell_type, meta_data))\n",
    "Phi <- t(design)"
   ]
  },
  {
   "cell_type": "code",
   "execution_count": 256,
   "metadata": {},
   "outputs": [],
   "source": [
    "## B x K\n",
    "x <- moe_gene(Xd, Phi, R, 1e6, c(0L, 1L))\n",
    "row.names(x) <- row.names(Xd)\n",
    "colnames(x) <- colnames(Xd)"
   ]
  },
  {
   "cell_type": "code",
   "execution_count": null,
   "metadata": {},
   "outputs": [],
   "source": []
  },
  {
   "cell_type": "markdown",
   "metadata": {},
   "source": [
    "# Debugging"
   ]
  },
  {
   "cell_type": "markdown",
   "metadata": {},
   "source": [
    "# Generative models\n",
    "\n",
    "What makes this whole thing challenging? \n",
    "\n",
    "    - multiple clusters\n",
    "    - variance depends on mean \n",
    "    - depth as a covariate\n",
    "    \n",
    "What questions to ask? \n",
    "\n",
    "    - Poisson vs log-normal vs normal with mean=exp(.)\n",
    "    - "
   ]
  },
  {
   "cell_type": "code",
   "execution_count": 275,
   "metadata": {},
   "outputs": [],
   "source": [
    "make_data <- function(samples1, samples2) {\n",
    "    exprs <- cbind(samples1, samples2)\n",
    "    meta_data <- data.frame(\n",
    "        type = rep(c('A', 'B'), each = ncells),\n",
    "        nUMI = colSums(exprs),\n",
    "        nGene = colSums(exprs > 0)\n",
    "    )\n",
    "    meta_data$depth <- log(meta_data$nUMI)\n",
    "    head(meta_data)\n",
    "\n",
    "    R <- t(model.matrix(~ 0 + meta_data$type))\n",
    "    row.names(R) <- c('A', 'B')\n",
    "\n",
    "    colnames(exprs) <- paste0('X', seq_len(ncol(exprs)))\n",
    "    row.names(exprs) <- paste0('G', seq_len(nrow(exprs)))    \n",
    "    return(list(exprs = exprs, meta_data = meta_data))\n",
    "}"
   ]
  },
  {
   "cell_type": "markdown",
   "metadata": {},
   "source": [
    "## Case I\n",
    "\n",
    "    1 cluster\n",
    "    2 groups + batch effect\n",
    "    no read depth correction\n",
    "    same lambda for all genes\n",
    "    "
   ]
  },
  {
   "cell_type": "code",
   "execution_count": 276,
   "metadata": {},
   "outputs": [],
   "source": [
    "ngenes <- 10\n",
    "ncells <- 100\n",
    "\n",
    "samples1 <- matrix(rpois(ncells * ngenes, 10), nrow = ngenes)\n",
    "samples2 <- matrix(rpois(ncells * ngenes, 12), nrow = ngenes)\n",
    "\n",
    "x1 <- make_data(samples1, samples2)"
   ]
  },
  {
   "cell_type": "code",
   "execution_count": 278,
   "metadata": {},
   "outputs": [],
   "source": [
    "# ## B x K\n",
    "# x <- moe_gene(x1$exprs, Phi, R, 1e6, c(0L, 1L))\n",
    "# row.names(x) <- row.names(Xd)\n",
    "# colnames(x) <- colnames(Xd)"
   ]
  },
  {
   "cell_type": "code",
   "execution_count": null,
   "metadata": {},
   "outputs": [],
   "source": []
  },
  {
   "cell_type": "markdown",
   "metadata": {},
   "source": [
    "## Case II"
   ]
  },
  {
   "cell_type": "code",
   "execution_count": null,
   "metadata": {},
   "outputs": [],
   "source": []
  },
  {
   "cell_type": "code",
   "execution_count": null,
   "metadata": {},
   "outputs": [],
   "source": []
  },
  {
   "cell_type": "raw",
   "metadata": {},
   "source": [
    "\n",
    "\n",
    "\n",
    "\n",
    "\n",
    "\n",
    "\n",
    "\n",
    "\n",
    "\n",
    "\n",
    "\n",
    "\n",
    "\n",
    "\n",
    "\n",
    "\n",
    "\n",
    "\n",
    "\n",
    "\n",
    "\n",
    "\n",
    "\n",
    "\n",
    "\n",
    "\n",
    "\n",
    "\n",
    "\n"
   ]
  }
 ],
 "metadata": {
  "kernelspec": {
   "display_name": "R",
   "language": "R",
   "name": "ir"
  },
  "language_info": {
   "codemirror_mode": "r",
   "file_extension": ".r",
   "mimetype": "text/x-r-source",
   "name": "R",
   "pygments_lexer": "r",
   "version": "3.5.1"
  },
  "toc-autonumbering": true
 },
 "nbformat": 4,
 "nbformat_minor": 2
}
